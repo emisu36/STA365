{
  "cells": [
    {
      "cell_type": "markdown",
      "id": "a027bd2b",
      "metadata": {
        "id": "a027bd2b"
      },
      "source": [
        "# Hamiltonian Monte Carlo<br><sub>Not quite NUTS but just unhinged enough to give you the right ideas</sub><!-- https://www.johndcook.com/t_normal_mixture.pdf -->\n",
        "\n",
        "<!--\n",
        "$\\begin{align}\n",
        "\\frac{1}{\\sqrt{2\\pi}} \\frac {\\frac{\\nu}{2}^{\\frac{\\nu}{2}}}{\\Gamma \\left(\\frac{\\nu}{2}\\right)}  \\int  e^{-\\frac{1}{2}\\tau_i(y_i^2 + \\nu) } \\tau_i^{\\frac{\\nu+1}{2}-1} d\\tau_i &={} \\frac{1}{\\sqrt{2\\pi}} \\frac{\\sqrt{\\frac{\\nu}{2}}}{\\sqrt{\\frac{\\nu}{2}}} \\frac {\\frac{\\nu}{2}^{\\frac{\\nu}{2}}}{\\Gamma \\left(\\frac{\\nu}{2}\\right)} \\Gamma \\left(\\frac{\\nu+1}{2}\\right) \\left(\\frac{y_i^2 + \\nu}{2}\\right)^{-\\frac{\\nu+1}{2}} \\\\\n",
        "&={} \\frac{1}{\\sqrt{\\pi\\nu}}  \\frac {\\frac{\\nu}{2}^{\\frac{\\nu+1}{2}}}{\\Gamma \\left(\\frac{\\nu}{2}\\right)} \\Gamma \\left(\\frac{\\nu+1}{2}\\right) \\left(\\frac{y_i^2 + \\nu}{2}\\right)^{-\\frac{\\nu+1}{2}}\\\\\n",
        "&={} \\frac{1}{\\sqrt{\\pi\\nu}}  \\frac{\\Gamma \\left(\\frac{\\nu+1}{2}\\right)}{\\Gamma \\left(\\frac{\\nu}{2}\\right)} \\frac{\\nu}{2}^{\\frac{\\nu+1}{2}} \\left(\\frac{y_i^2 + \\nu}{2}\\right)^{-\\frac{\\nu+1}{2}}\\\\\n",
        "&={} \\frac{1}{\\sqrt{\\pi\\nu}}  \\frac{\\Gamma \\left(\\frac{\\nu+1}{2}\\right)}{\\Gamma \\left(\\frac{\\nu}{2}\\right)} \\left(\\frac{y_i^2}{\\nu} + 1\\right)^{-\\frac{\\nu+1}{2}}\n",
        "\\end{align}$\n",
        "-->"
      ]
    },
    {
      "cell_type": "markdown",
      "id": "67da21f5",
      "metadata": {
        "id": "67da21f5"
      },
      "source": [
        "## Hamiltonian Dynamics\n",
        "\n",
        "Consider the **negative log joint probability distribution** for random varialbes $\\theta$ and $v$ with $\\dim(v)=\\dim(\\theta)$\n",
        "\n",
        "$$\\Large\n",
        "\\begin{align}\n",
        "- \\log p(\\theta, v) = {} & - \\log p(\\theta) p(v|\\theta)   \\\\\n",
        " = {} & - \\log p(\\theta) - \\log p(v|\\theta)   \\\\\n",
        "H(\\theta, v) = {} & U(\\theta) + K(v|\\theta) \\\\\n",
        "\\text{often simplified to } \\Longrightarrow \\quad = {} & U(\\theta) + K(v) \\quad \\textrm{ by assuming } \\quad  \\theta \\perp\\!\\!\\!\\perp v\n",
        "\\end{align}$$\n",
        "\n",
        "> You care about sampling value from $\\theta$ but $v$ is a completely **auxilliary variable** that you just made up and augmented $\\theta$ through $K(v|\\theta)$ which which probably just independent $K(v)$\n",
        "\n",
        "#### <u>Physics people:</u>\n",
        "\n",
        "This will define a **hamiltonian dynamics system** which decomposes the **total energy** $H(\\theta, v)$ into\n",
        "- **potential energy** $U(\\theta)$ and\n",
        "- **kinetic energy** $K(v)$, which is often called **momentum** or **velocity**\n",
        "\n",
        "if it is defined to evolve according to differential equations\n",
        "\n",
        "$$\\Large \\begin{align*}\n",
        "\\frac{d\\theta}{dt} & = {} \\frac{dH}{dv} & \\frac{dv}{dt} & = {}  -\\frac{dH}{d\\theta}\\\\\n",
        "\\end{align*}$$\n",
        "\n",
        "which induce the **law of conservation of energy**\n",
        "\n",
        "\n",
        "#### <u>Statistics people:</u>\n",
        "\n",
        "The **energies** $\\theta_0 \\overset{time}{\\rightarrow} \\theta_t$ and $v_0 \\overset{time}{\\rightarrow} v_t$ evolve over time but the **total energy**, defined to be the log joint density $\\log p(\\theta_0, v_0\\color{gray}{|x}) = \\log p(\\theta_t, v_t\\color{gray}{|x})$ remains constant\n",
        "\n",
        "#### <u>Physics people:</u>\n",
        "\n",
        "The variables $\\theta$ and $v$ are evolved over time so the **potential** $U(\\theta)$ and **kinetic** $K(v)$ **energy** are always inversely synchronized and the **total energy** remains constant\n",
        "\n",
        "#### <u>Statistics people:</u>\n",
        "\n",
        "You're walking on the countours of a distribution\n",
        "\n",
        "- [Radford Neal \"MCMC using Hamiltonian dynamics\"](https://arxiv.org/pdf/1206.1901)\n",
        "- [Michael Betancourt \"A Conceptual Introduction to Hamiltonian Monte Carlo\"](https://arxiv.org/pdf/1701.02434)\n",
        "- [Alex Rogozhnikov \"Hamiltonian Monte Carlo explained\"](https://arogozhnikov.github.io/2016/12/19/markov_chain_monte_carlo.html)"
      ]
    },
    {
      "cell_type": "markdown",
      "id": "af989db4",
      "metadata": {
        "id": "af989db4"
      },
      "source": [
        "### Normal Energy\n",
        "\n",
        "If $p(\\theta, v)$ is an **isotropic bivariate normal distribution** then\n",
        "\n",
        "$$H(\\theta, v) = \\log p(\\theta, v) \\overset{\\large \\theta \\perp\\!\\!\\!\\perp v}{=} \\log[p(\\theta)q(v)] = \\log p(\\theta) + \\log q(v) = U(\\theta) + K(v) = \\frac{1}{2}\\theta^2 +\\frac{1}{2}v^2$$\n",
        "\n",
        "and **conservation of energy** $U(\\theta) + K(v)$ is achieved if\n",
        "\n",
        "\\begin{align} \\frac{d\\theta}{dt} & = {} \\frac{dH}{dv} & \\frac{dv}{dt} & = {}  -\\frac{dH}{d\\theta} \\\\ & = {} \\frac{dK}{dv} = v & & = {}   -\\frac{dU}{d\\theta}= -\\theta  \\end{align}"
      ]
    },
    {
      "cell_type": "markdown",
      "id": "5dba112f",
      "metadata": {
        "id": "5dba112f"
      },
      "source": [
        "## Differential Equations\n",
        "\n",
        "The paths of $\\theta$ and $v$ which which satisfy these differential equations have the form\n",
        "\n",
        "$$\n",
        "\\begin{align}\n",
        "\\theta_t &={} r \\cos(a + t)  & v_t  &={} -r \\sin(a + t)\\\\\n",
        "\\frac{d}{dt}\\theta_t  &={} -r \\sin(a + t)   & \\frac{d}{dt} v_t  &={} -r \\cos(a + t)\\\\\n",
        " &={} v_t &  &={} - \\theta_t\n",
        "\\end{align}\n",
        "$$\n",
        "\n",
        "and they evolve $\\theta_t$ and $v_t$ on the contours of a unit circle (which are the contours of an isotropic bivariate normal distribution).\n"
      ]
    },
    {
      "cell_type": "code",
      "execution_count": null,
      "id": "beff2063",
      "metadata": {
        "id": "beff2063"
      },
      "outputs": [],
      "source": [
        "import numpy as np\n",
        "from scipy import stats\n",
        "import matplotlib.pyplot as plt"
      ]
    },
    {
      "cell_type": "code",
      "execution_count": null,
      "id": "9277ffa8",
      "metadata": {
        "id": "9277ffa8"
      },
      "outputs": [],
      "source": [
        "# for example\n",
        "r,a = 1,0\n",
        "t = np.linspace(0,10,1000)\n",
        "\n",
        "fig, ax = plt.subplots(nrows=1, ncols=2, figsize=(9,4));\n",
        "\n",
        "ax[0].plot(r*np.cos(a+t), label='$\\\\theta_t$')\n",
        "ax[0].plot(-r*np.sin(a+t), label='$v_t$')\n",
        "ax[0].legend()\n",
        "\n",
        "ax[1].plot(np.cos(t), -np.sin(t), 'k')\n",
        "ax[1].set_xlabel('$\\\\theta_t = \\\\cos(t)$')\n",
        "ax[1].set_ylabel('$v_t = -\\\\sin(t)$')\n",
        "ax[1].set_aspect('equal', adjustable='box')\n",
        "\n",
        "plt.tight_layout()"
      ]
    },
    {
      "cell_type": "markdown",
      "id": "af3a53a3",
      "metadata": {
        "id": "af3a53a3"
      },
      "source": [
        "## Symplectic Integration<br>(discretely approximated differential equations)\n",
        "\n",
        "\n",
        "> These processes are referred to as integration because they compute a summation series just like how Riemann sums add up areas under a curve (or how Monte Carlo integration estimates this by averaging up \"randomly sampled points\" of the curves height). Indeed, solutions to differential equations must be the integrals of the functions which when differentiated solve the equations.\n",
        "\n",
        "\n",
        "The following numerically approximate the solution trajectory of differential equations.\n",
        "\n",
        "1. ***Euler's method***: not a ***symplectic integrator***\n",
        "\n",
        "$$\\begin{align}\n",
        "\\theta_{t+\\epsilon} & = {} \\theta_t + \\epsilon \\frac{d\\theta_t}{d t} &\n",
        "v_{t+\\epsilon} & = {} v_t + \\epsilon \\frac{dv_t}{d t}\\\\\n",
        "& = {} \\theta_t + \\epsilon v_t &\n",
        "& = {} v_t - \\epsilon \\theta_t\n",
        "\\end{align}$$\n",
        "\n",
        "\n",
        "2. ***Euler's method*** (***improved variant***): a ***first order symplectic integrator***\n",
        "\n",
        "$$\\begin{align}\n",
        "\\theta_{t+\\epsilon} & = {} \\theta_t + \\epsilon \\frac{d\\theta_t}{d t} &\n",
        "v_{t+\\epsilon} & = {} v_t + \\epsilon \\frac{dv_{t+\\epsilon}}{d t}\\\\\n",
        "& = {} \\theta_t + \\epsilon v_t &\n",
        "& = {} v_t - \\epsilon \\theta_{t+\\epsilon}\n",
        "\\end{align}$$\n",
        "\n",
        "\n",
        "3. The ***leapfrog method*** (or ***leapfrog integration***): a  ***second order symplectic integrator***\n",
        "\n",
        "$$\\begin{align}\n",
        "\\theta(t+\\epsilon/2) & = {} \\theta_t + \\frac{\\epsilon}{2} \\frac{d\\theta_t}{d t} &\n",
        "v_{t+\\epsilon} & = {} v_t + \\epsilon \\frac{dv_{t+\\epsilon/2}}{d t} &\n",
        "\\theta_{t+\\epsilon} & = {} \\theta(t + \\epsilon/2) + \\frac{\\epsilon}{2} \\frac{d\\theta_{t + \\epsilon}}{d t}\\\\\n",
        "& = {} \\theta_t + \\frac{\\epsilon}{2} v_t&\n",
        "& = {} v_t - \\epsilon \\theta_{t+\\epsilon/2}&\n",
        "& = {} \\theta(t + \\epsilon/2) + \\frac{\\epsilon}{2} v_{t+\\epsilon}\n",
        "\\end{align}$$\n",
        "\n"
      ]
    },
    {
      "cell_type": "code",
      "execution_count": null,
      "id": "6e0b5f65",
      "metadata": {
        "id": "6e0b5f65"
      },
      "outputs": [],
      "source": [
        "t = np.linspace(0,2*np.pi, 100)\n",
        "fig, ax = plt.subplots(nrows=1, ncols=3, figsize=(16,8))\n",
        "\n",
        "for i in range(3):\n",
        "    ax[i].plot(np.cos(t), -np.sin(t), 'k')\n",
        "    ax[i].set_aspect('equal', adjustable='box')\n",
        "\n",
        "ax[0].set_title(\"Euler's Method (not Symplectic)\")\n",
        "theta_t, v_t, t, epsilon = 0, 1, 0, .3\n",
        "for i in range(20):\n",
        "    v_t_e = v_t - epsilon * theta_t\n",
        "    theta_t_e = theta_t + epsilon * v_t\n",
        "    ax[0].plot([theta_t, theta_t_e], [v_t, v_t_e], linewidth=5)\n",
        "    theta_t, v_t, t = theta_t_e, v_t_e, t+epsilon\n",
        "\n",
        "ax[1].set_title(\"Modified Euler's (First Order Symplectic)\")\n",
        "theta_t, v_t, t, epsilon = 0, 1, 0, .75\n",
        "for i in range(50):\n",
        "    v_t_e = v_t - epsilon * theta_t\n",
        "    theta_t_e = theta_t + epsilon * v_t_e\n",
        "    ax[1].plot([theta_t, theta_t_e], [v_t, v_t_e])\n",
        "    theta_t, v_t, t = theta_t_e, v_t_e, t+epsilon\n",
        "\n",
        "ax[2].set_title(\"The Leapfrog Method (Second Order Symplectic)\")\n",
        "theta_t, v_t, t, epsilon = 0, 1, 0, .1\n",
        "for i in range(50):\n",
        "    v_t_e = v_t - epsilon / 2 * theta_t\n",
        "    theta_t_e = theta_t + epsilon * v_t_e\n",
        "    v_t_e = v_t_e - epsilon / 2 * theta_t_e\n",
        "    ax[2].plot([theta_t, theta_t_e], [v_t, v_t_e], linewidth=10)\n",
        "    theta_t, v_t, t = theta_t_e, v_t_e, t+epsilon"
      ]
    },
    {
      "cell_type": "markdown",
      "id": "b0999783",
      "metadata": {
        "id": "b0999783"
      },
      "source": [
        "## Hamiltonian Monte Carlo<br><sub>Remember Metropolis-Hastings...</sub>\n",
        "\n",
        "\n",
        "To produce draws from $p(x^{(t)})$ samples from a **proposal distribution** $\\tilde x^{(t)} \\sim q(\\tilde x^{(t)}|x^{(t-1)})$ and \"flip a coin\" to accept or reject the proposal according to\n",
        "\n",
        "$x^{(t)} = \\left\\{\\begin{array}{ll}\n",
        "\\tilde x^{(t)} & \\text{with probability } \\min\\left(1,\\frac{p(\\tilde x^{(t)})}{p(x^{(t-1)})}\\frac{q(x^{(t-1)}|\\tilde x^{(t)})}{q(\\tilde x^{(t)}|x^{(t-1)})}\\right) \\quad \\color{gray}{\\begin{array}{c}\\textrm{... is the normalizing constant needed for $p$?}\\\\\\textrm{... and what happens if $q$ is symmetric?}  \\end{array}}\\\\\n",
        "x^{(t-1)} & \\text{otherwise}\n",
        "\\end{array}\\right.$\n",
        "\n",
        "---\n",
        "\n",
        "1. Randomly sampling a number of discrete approximation steps (from some discrete distribution you choose)\n",
        "\n",
        "\n",
        "2. Evolve to $\\theta_t$ and $v_t$ with **symplectic integration** to create a **Metropolis-Hastings** proposal distribution $\\tilde p( \\theta_t,  v_t|\\theta_0,v_0)$ with an **aceptance probability** of $1$\n",
        "\n",
        "  $$\\require{cancel}\\min\\left(1,\\cancel{\\frac{p( \\theta_t,  v_t|x)}{p(\\theta_0,v_0|x)}}^1\\cancel{\\frac{ \\tilde p(\\theta_0,v_0| \\theta_t,  v_t)}{\\tilde p( \\theta_t,  v_t|\\theta_0,v_0)}}^1\\right)$$\n",
        "\n",
        "  assuming\n",
        "  1. proposals $ \\theta_t$ and $ v_t$ are on the same **contour** of the **log joint probability distribution** as initial values $\\theta_0$ and $v_0$ (so the first ratio cancels)\n",
        "  2. and the symplectic integration is **reversibly symmetric** (so the second ratio cancels)\n",
        "  \n",
        "  <u>*Pause: do not yet accept this transition.*</u>\n",
        "\n",
        "\n",
        "3. **Symmetrically randomly** perturb the **momentum** $v_t$ to $v_t+\\epsilon$ to incease or decrease the overall **energy** up or down to higher or lower levels of the contours of the **log joint probability distribution** and accept now accept the full **Metropolis-Hastings** proposal with an **aceptance probability** of\n",
        "\n",
        "   $$\\require{cancel}\\min\\left(1,{\\frac{p( \\theta_t, v_t+\\epsilon|x)}{p(\\theta_t,v_t|x)}}\\cancel{\\frac{\\tilde q(\\theta_t,v_t)|\\theta_t,v_t+\\epsilon)}{\\tilde q(\\theta_t,v_t+\\epsilon| \\theta_t,  v_t)}}^1 \\cancel{\\frac{ \\tilde p(\\theta_0,v_0| \\theta_t,  v_t)}{\\tilde p( \\theta_t,  v_t|\\theta_0,v_0)}}^1 \\right)$$\n",
        "\n",
        "  where the second proposal distribution $\\tilde q(\\theta_t,  v_t+\\epsilon|\\theta_t,v_t)$ ratio cancels due to the symmetry.\n"
      ]
    },
    {
      "cell_type": "code",
      "execution_count": null,
      "id": "f18de88a",
      "metadata": {
        "id": "f18de88a"
      },
      "outputs": [],
      "source": [
        "t = np.linspace(0,2*np.pi, 100);\n",
        "fig,ax = plt.subplots(1,3,figsize=(15,5))\n",
        "ax[0].plot(np.cos(t), -np.sin(t))\n",
        "ax[0].set_aspect('equal', adjustable='box')\n",
        "ax[1].set_aspect('equal', adjustable='box')\n",
        "ax[0].set_title(\"(Second Order Symplectic) Leapfrog Method\")\n",
        "ax[1].set_title(\"Exponentiated Energy Distribution\")\n",
        "ax[2].set_title(\"Marginal Distribution of Interest\")\n",
        "\n",
        "theta_t, v_t, t, epsilon = 0, 1, 0, .1;\n",
        "\n",
        "m = 1000\n",
        "theta_ts = np.zeros(m)\n",
        "v_ts = np.zeros(m)\n",
        "\n",
        "plotting = 50\n",
        "accept = 0\n",
        "for j in range(m):\n",
        "\n",
        "    v_t_prop = v_t + stats.norm(scale=0.5).rvs()\n",
        "    MH_acceptance_probability = \\\n",
        "    min(1,stats.norm().pdf(v_t_prop)/stats.norm().pdf(v_t))\n",
        "    if stats.uniform().rvs()<MH_acceptance_probability:\n",
        "        v_t = v_t_prop\n",
        "        accept += 1\n",
        "\n",
        "    for i in range(stats.poisson(15).rvs()):\n",
        "        v_t_e = v_t - epsilon / 2 * theta_t\n",
        "        theta_t_e = theta_t + epsilon * v_t_e\n",
        "        v_t_e = v_t_e - epsilon / 2 * theta_t_e\n",
        "        if j < plotting:\n",
        "            ax[0].plot([theta_t, theta_t_e], [v_t, v_t_e], color=['r','k'][i%2])\n",
        "        theta_t, v_t, t = theta_t_e, v_t_e, t+epsilon\n",
        "    if j < plotting:\n",
        "        ax[0].scatter(theta_t, v_t, s=50, color='orange');\n",
        "\n",
        "    theta_ts[j] = theta_t\n",
        "    v_ts[j] = v_t\n",
        "\n",
        "ax[1].scatter(theta_ts, v_ts)\n",
        "ax[2].hist(theta_ts, density=True)\n",
        "ax[2].plot(sorted(theta_ts), stats.norm().pdf(sorted(theta_ts)))\n",
        "accept/m"
      ]
    },
    {
      "cell_type": "markdown",
      "id": "afe9a7e8",
      "metadata": {
        "id": "afe9a7e8"
      },
      "source": [
        "### Hamiltonian Monte Carlo is just smart Metropolis-Hastings<br>that might actually work in high dimensions<br><sub>Random perturbations in high dimesions just like uniform random samples in high dimensions<br>will not land on the density of interest... high dimensional space is too big...</sub>\n"
      ]
    },
    {
      "cell_type": "markdown",
      "id": "696f13d3",
      "metadata": {
        "id": "696f13d3"
      },
      "source": [
        "## High Dimensional Space is Big and Weird and Not What You Think It Is (Part A)"
      ]
    },
    {
      "cell_type": "code",
      "execution_count": null,
      "id": "a0e50694",
      "metadata": {
        "id": "a0e50694"
      },
      "outputs": [],
      "source": [
        "# target\n",
        "p_x_pdf = lambda x: stats.norm().pdf(x)\n",
        "mh_tuning_parameter = 1.25\n",
        "q_xt_given_xtm1 = lambda x: stats.norm(x, scale=mh_tuning_parameter)\n",
        "proposal_distribution = q_xt_given_xtm1\n",
        "\n",
        "m = 1000\n",
        "x = np.zeros(m)\n",
        "rejections = 0\n",
        "for t in range(1,m):\n",
        "    x_tilde = proposal_distribution(x[t-1]).rvs()\n",
        "    acceptance_probability = min(1, p_x_pdf(x_tilde)/p_x_pdf(x[t-1]))\n",
        "    if stats.uniform().rvs() < acceptance_probability:\n",
        "        x[t] = x_tilde\n",
        "    else:\n",
        "        x[t] = x[t-1]\n",
        "        rejections += 1\n",
        "\n",
        "fig,ax = plt.subplots(1,2,figsize=(10,5))\n",
        "ax[0].plot(x)\n",
        "ax[1].hist(x, density=True)\n",
        "x_support = np.linspace(-4,4,301)\n",
        "ax[1].plot(x_support, p_x_pdf(x_support));"
      ]
    },
    {
      "cell_type": "code",
      "execution_count": null,
      "id": "8fe0aac0",
      "metadata": {
        "id": "8fe0aac0"
      },
      "outputs": [],
      "source": [
        "# target `stats.multivariate_normal?`\n",
        "D = 20\n",
        "p_x_pdf = lambda x: stats.multivariate_normal(mean=np.zeros(D),cov=np.eye(D)).pdf(x)\n",
        "mh_tuning_parameter = 0.1\n",
        "q_xt_given_xtm1 = lambda x: stats.multivariate_normal(mean=x, cov=mh_tuning_parameter*np.eye(D))\n",
        "proposal_distribution = q_xt_given_xtm1\n",
        "\n",
        "m = 10000\n",
        "x = np.zeros((D,m))\n",
        "rejections = 0\n",
        "for t in range(1,m):\n",
        "    x_tilde = proposal_distribution(x[:,t-1]).rvs()\n",
        "                                    # MVN is still a symmetric proposal\n",
        "    acceptance_probability = min(1, p_x_pdf(x_tilde)/p_x_pdf(x[:,t-1]))\n",
        "    if stats.uniform().rvs() < acceptance_probability:\n",
        "        x[:,t] = x_tilde\n",
        "    else:\n",
        "        x[:,t] = x[:,t-1]\n",
        "        rejections += 1\n",
        "\n",
        "fig,ax = plt.subplots(2,2,figsize=(10,5))\n",
        "\n",
        "demo = 100\n",
        "demo_D = 3\n",
        "for d in range(demo_D):\n",
        "    ax[0,0].plot(x[d,:demo])\n",
        "    ax[0,1].hist(x[d,:], density=True, alpha=0.5)\n",
        "    ax[1,0].plot(x[d,:demo], x[d,1:(demo+1)], '.')\n",
        "\n",
        "    max_k = 100\n",
        "    autocorrelations = np.ones(max_k)\n",
        "    for k in range(1,max_k):\n",
        "        autocorrelations[k] = np.corrcoef(x[d,:-k:k],x[d,k::k])[0,1]\n",
        "    ax[1,1].plot(autocorrelations, label=\"n_eff = %.2f\"%(m/(1+2*autocorrelations.sum())))\n",
        "\n",
        "ax[0,0].set_title(\"%.2f\"%(100*rejections/m)+\"% rejections\"+\" (%1.f/\"%rejections+\"%1.f)\"%m)\n",
        "ax[1,1].set_title(\"autocorrelation plots\")\n",
        "ax[1,0].set_title(\"$\\\\theta_t$ versus $\\\\theta_{t+1}$\")\n",
        "ax[1,1].legend()\n",
        "x_support = np.linspace(-4,4,301)\n",
        "ax[0,1].plot(x_support, stats.norm().pdf(x_support))\n",
        "plt.tight_layout()"
      ]
    },
    {
      "cell_type": "code",
      "execution_count": null,
      "id": "51534c22",
      "metadata": {
        "id": "51534c22"
      },
      "outputs": [],
      "source": [
        "import pymc\n",
        "import arviz as az"
      ]
    },
    {
      "cell_type": "code",
      "execution_count": null,
      "id": "b1869fd0",
      "metadata": {
        "id": "b1869fd0"
      },
      "outputs": [],
      "source": [
        "mvn_model = pymc.Model()\n",
        "\n",
        "with mvn_model:\n",
        "\n",
        "    target = pymc.MvNormal('target', mu=np.zeros(D), cov=np.eye(D))\n",
        "\n",
        "m = 10000\n",
        "with mvn_model:\n",
        "\n",
        "    idata = pymc.sample(draws=int(m/4), chains=4, tune=1000)\n",
        "\n",
        "az.plot_trace(idata)\n",
        "plt.tight_layout()"
      ]
    },
    {
      "cell_type": "code",
      "execution_count": null,
      "id": "56c3d58b",
      "metadata": {
        "id": "56c3d58b"
      },
      "outputs": [],
      "source": [
        "az.summary(idata, round_to=5)"
      ]
    },
    {
      "cell_type": "code",
      "execution_count": null,
      "id": "c5171847",
      "metadata": {
        "id": "c5171847"
      },
      "outputs": [],
      "source": [
        "c,d = 0,0\n",
        "plt.plot(idata.posterior.target.values[c,:-1,d],\n",
        "         idata.posterior.target.values[c,1:,d], '.', alpha=0.25);"
      ]
    },
    {
      "cell_type": "code",
      "execution_count": null,
      "id": "f1db2280",
      "metadata": {
        "id": "f1db2280"
      },
      "outputs": [],
      "source": [
        "az.plot_energy(idata);"
      ]
    },
    {
      "cell_type": "markdown",
      "id": "a3051f8a",
      "metadata": {
        "id": "a3051f8a"
      },
      "source": [
        "## High Dimensional Space is Big and Weird and Not What You Think It Is (Part B)"
      ]
    },
    {
      "cell_type": "code",
      "execution_count": null,
      "id": "98d14f79",
      "metadata": {
        "id": "98d14f79"
      },
      "outputs": [],
      "source": [
        "# Here's a conceptual visualization of what a multivariate normal\n",
        "# distribution is going to look like in high dimensions: a \"bubble\"\n",
        "x_grid = np.linspace(-3,3,1000)\n",
        "x,y = np.meshgrid(x_grid,x_grid)\n",
        "tmp = (x**2+y**2)**.5*stats.multivariate_normal(mean=[0,0]).pdf(np.array([x.ravel(),y.ravel()]).T).reshape(1000,1000)\n",
        "plt.imshow(tmp)\n",
        "plt.xticks(np.linspace(0,1000,7), np.linspace(-3,3,7)); plt.yticks(np.linspace(0,1000,7), np.linspace(-3,3,7));"
      ]
    },
    {
      "cell_type": "code",
      "execution_count": null,
      "id": "2d80284c",
      "metadata": {
        "id": "2d80284c"
      },
      "outputs": [],
      "source": [
        "# You can see that the \"mass\" of a \"mound\" shape in higher dimensions is actually spherical by\n",
        "# looking at the distribution of distances from the mean of the sample vectors (x**2).sum()**0.5\n",
        "plt.figure()\n",
        "n = 100000\n",
        "for D in [2,5,10,15,20]:\n",
        "    f = stats.multivariate_normal([0]*D)\n",
        "    x = f.rvs(n)\n",
        "    plt.hist((x**2).sum(axis=1)**0.5, density=True, alpha=0.5,\n",
        "             label=\"D=\"+str(D)+\" with average distances \"+str(round(((x**2).sum(axis=1)**0.5).mean(),3)))\n",
        "plt.legend();"
      ]
    },
    {
      "cell_type": "markdown",
      "id": "7f313752",
      "metadata": {
        "id": "7f313752"
      },
      "source": [
        "### The MAP an MLE<br><sub></sub>can be bad estimators\n",
        "\n",
        "If the MLE estimates the expectation of a distribution I take it back (and sorry for being so, ahem, **MEAN** to your favorite estimator gosh geez)\n",
        "\n",
        "But consider that the posterior (parameter belief model) distribution is going to be some sort of spherical \"bubble\" shape distribution\n",
        "- since the posterior generally has a \"mound\" shape\n",
        "\n",
        "and that the MAP estimator is not remotely \"usual\" or \"typical\" relative to the **typical set** (which looks like a \"bubble\")\n",
        "- and the MAP estimator is not goign to be \"in the middle or center\" of the \"bubble\" unless the \"bubble\" is perfectly sphereically symmetric (which might be the case for parameters like $\\theta$ but how about for parameters like $\\tau$?)\n",
        "\n",
        "### Posterior expectation is a good estimator<br>averaging over the plausible values according to our (parameter belief) uncertainty<br>so our predictions are based on \"the average\" of what's \"usual\" or \"typical\"\n",
        "\n",
        "$$\\Large E[\\theta|x] = \\int \\theta p(\\theta|x)d\\theta \\approx \\frac{1}{m} \\sum_{t=1}^m \\theta^{(t)} \\quad \\textrm{ for } \\quad \\theta^{(t)}\\sim p(\\theta|x)$$\n",
        "\n",
        "The **posterior predictive distribution** (shown here for a normal distribution data model) is\n",
        "\n",
        "$$\\LARGE f(\\tilde x|x) = \\int N(\\tilde x|\\theta,\\tau) p(\\theta,\\tau|x)d\\theta d\\tau$$\n",
        "\n",
        "\n",
        "with\n",
        "\n",
        "$$\\Large E_{f(\\tilde X|x)}[\\tilde x] = \\frac{1}{m} \\sum_{t=1}^m  \\tilde x^{(t)} \\quad \\textrm{ for } \\quad \\tilde x^{(t)} \\sim N(\\theta^{(t)},\\tau^{(t)}) \\quad \\textrm{ for } \\quad  (\\theta^{(t)}, \\tau^{(t)}) \\sim p(\\beta, \\tau|x)$$\n"
      ]
    },
    {
      "cell_type": "markdown",
      "id": "bad2a67c",
      "metadata": {
        "id": "bad2a67c"
      },
      "source": [
        "## Now that you know<br><sup>High Dimensional Space is Big and Weird and Not What You Think It Is</sup><br>but know that it needs to be treated with care let's do<br>High Dimensional Space is Big <span style=\"color:gray\">and Weird and Not What You Think It Is</span> (Part C): <u>runtime and divergences</u>\n",
        "\n",
        "The diagnostics we have seen to be available so far are\n",
        "\n",
        "- Rejection rate\n",
        "- Effective sample size\n",
        "- Energy\n",
        "\n",
        "but there are two more that are extremely useful\n",
        "\n",
        "- Runtime\n",
        "    - The **step size** of our **symplectic integrator**, and the number of **discrete approximation** steps we take\n",
        "        - determines how far away from our current value we can travel\n",
        "            - and hence determines how much autocorrelation we will have in our Markov chains\n",
        "    - The \"tuning\" that PyMC NUTS algorithm does is to determine the **step size** and number of **discrete approximation** steps the most effectively achieves a **targetted acceptance rate**\n",
        "        - with a default target of an 80% acceptance rate is thought to be a good rule of thumb\n",
        "    - The PyMC NUTS algorithm is interesting in that \"the harder the problem\" the\n",
        "        - the SMALLER **step size** and the GREATER the number of **discrete approximation** steps it requires\n",
        "            - and hence the more computation it requires\n",
        "                - so the slower the run time the \"the harder the problem\" is\n",
        "- Divergences\n",
        "    - The **symplectic integration** is \"falling off the contour\"\n",
        "        - which is easy to do because, remember, high dimensional space is big\n",
        "            - so even very small **discrete approximation** steps might be too big...\n",
        "        - so SMALLER **step size** are required and a GREATER the number of **discrete approximation** steps are required...\n",
        "    - And/But this **divergences** issue happens only in areas of the density with so-called **high curvature**\n",
        "        - so the sampler is tuned to work well on most of the density which likely DOES NOT have **high curvature**\n",
        "        - but then it performs poorly and creates many **divergences** when it arrives in parts of the density with **high curvature**\n",
        "        \n",
        "    - If **divergences** due to **high curvature** are common then the algorithm will be tuned to have SMALLER **step size** and a GREATER the number of **discrete approximation** steps, making it have a slower **runtime**\n",
        "    - If **divergences** still exist then a balance has not been achieved (and it may not be possible to achieve) so sampling will remain problematic in **high curvature** regions of the target density"
      ]
    },
    {
      "cell_type": "markdown",
      "id": "a13c2079",
      "metadata": {
        "id": "a13c2079"
      },
      "source": [
        "### Eight Schools\n",
        "\n",
        "[Eight Schools](https://www.pymc.io/projects/examples/en/latest/diagnostics_and_criticism/Diagnosing_biased_Inference_with_Divergences.html#the-eight-schools-model) is the classical example of a hierarchical \"random effects\" Bayesian model.\n",
        "\n",
        "- The 8 schools have different average levels of achievement ($y$)\n",
        "\n",
        "- but also different uncertainty in their estimation ($\\sigma$)\n",
        "\n"
      ]
    },
    {
      "cell_type": "code",
      "execution_count": null,
      "id": "7e43e4ab",
      "metadata": {
        "id": "7e43e4ab"
      },
      "outputs": [],
      "source": [
        "J = 8\n",
        "y = np.array([28.0, 8.0, -3.0, 7.0, -1.0, 1.0, 18.0, 12.0])\n",
        "sigma = np.array([15.0, 10.0, 16.0, 11.0, 9.0, 11.0, 10.0, 18.0])\n",
        "\n",
        "with pymc.Model() as Centered_eight:\n",
        "\n",
        "    # We assume the following prior distributions for our parameters\n",
        "    mu = pymc.Normal(\"mu\", mu=0, sigma=5)\n",
        "    tau = pymc.HalfCauchy(\"tau\", beta=5)\n",
        "\n",
        "    # and we assume the following probabilistic hierarchy\n",
        "    # within the data generating mechanism\n",
        "    theta = pymc.Normal(\"theta\", mu=mu, sigma=tau, shape=J) # theta is length J=8\n",
        "\n",
        "    # Note that the theta density evalution of theta above can change rapidly\n",
        "    # as a function of tau  meaning that the energy has \"high curvature\"\n",
        "\n",
        "    # likelihood where observed information enters into the model\n",
        "    obs = pymc.Normal(\"obs\", mu=theta, sigma=sigma, observed=y)\n",
        "\n",
        "pymc.model_to_graphviz(Centered_eight)"
      ]
    },
    {
      "cell_type": "markdown",
      "id": "6fd235c9",
      "metadata": {
        "id": "6fd235c9"
      },
      "source": [
        "> This hierarchy seeks to estimate \"true levels of achievement\" $\\theta_i$ given ($\\sigma_i$) noisy observation $y_i$ assuming that there's some variabiltiy over $\\theta_i$ but all come from the same (normal) \"random effects\" distribution with unknown mean and variance.\n",
        ">\n",
        "> Inference will consist of posterior distributions for $\\theta_i$ (and a normal distributional characterization of these 8 values given by posterior distributions over $\\mu$ and $\\tau$)."
      ]
    },
    {
      "cell_type": "code",
      "execution_count": null,
      "id": "271d29e1",
      "metadata": {
        "id": "271d29e1"
      },
      "outputs": [],
      "source": [
        "with Centered_eight:\n",
        "    fit_C = pymc.sample(5000, chains=2, tune=1000, idata_kwargs={\"log_likelihood\": True})\n"
      ]
    },
    {
      "cell_type": "code",
      "execution_count": null,
      "id": "0e9e753f",
      "metadata": {
        "id": "0e9e753f"
      },
      "outputs": [],
      "source": [
        "tau = fit_C.posterior.tau.values.ravel()\n",
        "diverging = fit_C.sample_stats.diverging.values.ravel()\n",
        "\n",
        "plt.plot(tau[:-1], tau[1:], 'k.', alpha=0.1)\n",
        "divcount = 0\n",
        "for i,div in enumerate(diverging[:-1]):\n",
        "    if div:\n",
        "        if divcount==0:\n",
        "            plt.plot(tau[i], tau[i+1], 'r.', alpha=0.5, label=\"Divergences\")\n",
        "            divcount += 1\n",
        "        plt.plot(tau[i], tau[i+1], 'r.', alpha=0.5)\n",
        "plt.xlabel(\"tau[t]\")\n",
        "plt.ylabel(\"tau[t+1]\")\n",
        "#plt.xlim([0,5])\n",
        "#plt.ylim([0,5])\n",
        "plt.legend();"
      ]
    },
    {
      "cell_type": "code",
      "execution_count": null,
      "id": "839654c9",
      "metadata": {
        "id": "839654c9"
      },
      "outputs": [],
      "source": [
        "from matplotlib import cm\n",
        "gra = cm.get_cmap('viridis', 100)\n",
        "\n",
        "a = fit_C.sample_stats.acceptance_rate.values.ravel()\n",
        "cutoff=0.4\n",
        "plt.scatter(tau[:-1][a[:-1]>cutoff], tau[1:][a[:-1]>cutoff],\n",
        "            color=gra(a[:-1][a[:-1]>cutoff]), alpha=0.5)\n",
        "for i,ai in enumerate(a[:-1]):\n",
        "    if ai<=cutoff:\n",
        "        plt.scatter(tau[i], tau[i+1], color=gra(ai))\n",
        "\n",
        "plt.scatter(tau[:-1][a[:-1]<=cutoff], tau[1:][a[:-1]<=cutoff], color=gra(a[:-1][a[:-1]<=cutoff]))\n",
        "plt.title(\"Acceptance Rate\")\n",
        "plt.xlabel(\"tau[t]\")\n",
        "plt.ylabel(\"tau[t+1]\")\n",
        "plt.colorbar();\n"
      ]
    },
    {
      "cell_type": "code",
      "execution_count": null,
      "id": "0cccca63",
      "metadata": {
        "id": "0cccca63"
      },
      "outputs": [],
      "source": [
        "plt.plot(tau, 'k.', alpha=0.1)\n",
        "divcount = 0\n",
        "for i,div in enumerate(diverging):\n",
        "    if div:\n",
        "        if divcount==0:\n",
        "            plt.plot(i,tau[i], 'r.', label=\"Divergences\")\n",
        "            divcount += 1\n",
        "        plt.plot(i, tau[i], 'r.',)\n",
        "plt.title('tau draws')\n",
        "plt.legend();"
      ]
    },
    {
      "cell_type": "code",
      "execution_count": null,
      "id": "6a526034",
      "metadata": {
        "id": "6a526034"
      },
      "outputs": [],
      "source": [
        "fit_C"
      ]
    },
    {
      "cell_type": "code",
      "execution_count": null,
      "id": "2d60dd1c",
      "metadata": {
        "id": "2d60dd1c"
      },
      "outputs": [],
      "source": [
        "fit_C.sample_stats"
      ]
    },
    {
      "cell_type": "code",
      "execution_count": null,
      "id": "ab94b406",
      "metadata": {
        "id": "ab94b406"
      },
      "outputs": [],
      "source": [
        "fig,ax = plt.subplots(3,3,figsize=(10,10))\n",
        "ax = ax.ravel()\n",
        "look_at = np.array(list(fit_C.sample_stats.keys()))\n",
        "look_at = look_at[[0,2,3,7,12,14]]\n",
        "for i,info in enumerate(look_at):\n",
        "    ax[i].hist(fit_C.sample_stats[info].values.ravel()[~diverging],\n",
        "               density=True, alpha=0.5, label='No divergence')\n",
        "    ax[i].hist(fit_C.sample_stats[info].values.ravel()[diverging],\n",
        "               density=True, alpha=0.5, label='Divergence')\n",
        "    ax[i].set_title(info)\n",
        "    ax[i].legend()\n",
        "\n",
        "ax[-2].hist(fit_C.log_likelihood.obs.values.sum(axis=-1).ravel()[~diverging],\n",
        "            density=True, alpha=0.5, label='No divergence')\n",
        "ax[-2].hist(fit_C.log_likelihood.obs.values.sum(axis=-1).ravel()[diverging],\n",
        "            density=True, alpha=0.5, label='Divergence')\n",
        "ax[-2].set_title(\"log_likelihood\")\n",
        "\n",
        "plt.tight_layout()"
      ]
    },
    {
      "cell_type": "code",
      "execution_count": null,
      "id": "3ff24dfc",
      "metadata": {
        "id": "3ff24dfc"
      },
      "outputs": [],
      "source": [
        "mu = fit_C.posterior.mu.values.ravel()\n",
        "plt.plot(mu, 'k.', alpha=0.1)\n",
        "divcount = 0\n",
        "for i,div in enumerate(diverging):\n",
        "    if div:\n",
        "        if divcount==0:\n",
        "            plt.plot(i,mu[i], 'r.', label=\"Divergences\")\n",
        "            divcount += 1\n",
        "        plt.plot(i, mu[i], 'r.',)\n",
        "\n",
        "plt.title('mu draws')\n",
        "plt.legend();"
      ]
    },
    {
      "cell_type": "code",
      "execution_count": null,
      "id": "b33cf980",
      "metadata": {
        "id": "b33cf980"
      },
      "outputs": [],
      "source": [
        "fig,ax = plt.subplots(2,4,figsize=(20,10))\n",
        "ax = ax.ravel()\n",
        "\n",
        "for j in range(J):\n",
        "    theta_j = fit_C.posterior.theta.values[:,:,j].ravel()\n",
        "    ax[j].plot(theta_j, 'k.', alpha=0.1)\n",
        "    divcount = 0\n",
        "    for i,div in enumerate(diverging):\n",
        "        if div:\n",
        "            if divcount==0:\n",
        "                ax[j].plot(i,theta_j[i], 'r.', label=\"Divergences\")\n",
        "                divcount += 1\n",
        "            ax[j].plot(i, theta_j[i], 'r.',)\n",
        "\n",
        "    ax[j].set_title('theta '+str(j)+' draws')\n",
        "    ax[j].legend()\n",
        ""
      ]
    },
    {
      "cell_type": "code",
      "execution_count": null,
      "id": "ed6ddc85",
      "metadata": {
        "id": "ed6ddc85"
      },
      "outputs": [],
      "source": [
        "theta_prec = 1/fit_C.posterior.theta.values.var(axis=-1).ravel()\n",
        "plt.plot(theta_prec, 'k.', alpha=0.1)\n",
        "divcount = 0\n",
        "for i,div in enumerate(diverging):\n",
        "    if div:\n",
        "        if divcount==0:\n",
        "            plt.plot(i,theta_prec[i], 'r.', label=\"Divergences\")\n",
        "            divcount += 1\n",
        "        plt.plot(i, theta_prec[i], 'r.',)\n",
        "\n",
        "plt.title('precision of theta draws')\n",
        "plt.legend();"
      ]
    },
    {
      "cell_type": "code",
      "execution_count": null,
      "id": "e8bb8d21",
      "metadata": {
        "id": "e8bb8d21"
      },
      "outputs": [],
      "source": [
        "plt.plot(tau,theta_prec,'k.',alpha=0.05)\n",
        "plt.plot(tau[diverging],theta_prec[diverging], 'r.', label=\"Divergences\", alpha=0.25)\n",
        "plt.xlabel('tau')\n",
        "plt.ylabel('precision of thetas');"
      ]
    },
    {
      "cell_type": "code",
      "execution_count": null,
      "id": "4cef8dea",
      "metadata": {
        "id": "4cef8dea"
      },
      "outputs": [],
      "source": [
        "mu = fit_C.posterior.mu.values.ravel()\n",
        "thetaS = fit_C.posterior.theta.values.reshape(10000,8)\n",
        "theta = fit_C.posterior.theta.values\n",
        "for i in range(0,len(mu)-1):\n",
        "    if diverging[i]:\n",
        "        s = max(tau[i]**-0.5, thetaS[i,:].std())\n",
        "        support = np.linspace(mu[i]-2*s, mu[i]+2*s, 100)\n",
        "        plt.plot(support,stats.norm(mu[i],tau[i]**-0.5).pdf(support), label=\"What tau wants\")\n",
        "        plt.plot(support,stats.norm(mu[i],thetaS[i,:].std()).pdf(support), ':', label=\"What thetaS want\")\n",
        "        plt.plot(thetaS[i,:],0*thetaS[i,:],'k.')\n",
        "        #for j in range(J):\n",
        "        #    plt.plot(theta[:,:,j].ravel()[i],0,'r.')\n",
        "        print(i)\n",
        "        plt.legend()\n",
        "        plt.title(\"High curvature as small changes in tau rapidly change energy (density)\")\n",
        "        break\n"
      ]
    },
    {
      "cell_type": "code",
      "execution_count": null,
      "id": "70595d3f",
      "metadata": {
        "id": "70595d3f"
      },
      "outputs": [],
      "source": [
        "# The many divergences observed above are primarily happening when the\n",
        "# thetas have high precision around mu but are in disagreement with tau\n",
        "#\n",
        "# Changes in tau may therefore result in rapid changes of the likelihood\n",
        "# which means there is \"high curature\" in the energy\n",
        "# and this is resulting in the discrete approximation to the Hamiltonian dynamics\n",
        "# not being accurate enough to correctly walk along a energy contour\n",
        "# so the algorith must slow down by shortening it's step size\n",
        "#\n",
        "# But in this case we can essentially fix this problem with a reparameterization\n",
        "\n",
        "with pymc.Model() as NonCentered_eight:\n",
        "\n",
        "    # The following is a mathematically equivalent specification\n",
        "    # that \"reparameterization our problems away\"\n",
        "\n",
        "    # We assume the same prior distributions as before\n",
        "    mu = pymc.Normal(\"mu\", mu=0, sigma=5)\n",
        "    tau = pymc.HalfCauchy(\"tau\", beta=5)\n",
        "\n",
        "    # But now we put theta on a fixed scale independent of tau\n",
        "    theta_tilde = pymc.Normal(\"theta_tilde\", mu=0, sigma=1, shape=J)\n",
        "    # so theta and tau no longer conflict and lead to high energy curvatuare\n",
        "\n",
        "    # But we can get back our original theta model specification as\n",
        "    theta = pymc.Deterministic(\"theta\", mu + tau * theta_tilde)\n",
        "\n",
        "    # and our likelihood remains exactly the same as before\n",
        "    obs = pymc.Normal(\"obs\", mu=theta, sigma=sigma, observed=y)\n",
        ""
      ]
    },
    {
      "cell_type": "code",
      "execution_count": null,
      "id": "965f935f",
      "metadata": {
        "id": "965f935f"
      },
      "outputs": [],
      "source": [
        "# SEED = [20100420, 20134234] # random seeds for each of two run HMC chains\n",
        "# random_seed=SEED can be passed to `pymc.sample` if desired\n",
        "with NonCentered_eight:\n",
        "    fit_C = pymc.sample(5000, chains=2, tune=1000, idata_kwargs={\"log_likelihood\": True})\n"
      ]
    },
    {
      "cell_type": "markdown",
      "id": "0ed88fea",
      "metadata": {
        "id": "0ed88fea"
      },
      "source": [
        "## Week 6 Homework\n",
        "\n",
        "---\n",
        "\n",
        "### Q1: Let's start having some *real* fun...\n",
        "\n",
        "We previously considered the normal-gamma specification\n",
        "\n",
        "$$\\scriptsize\n",
        "\\begin{align*}\n",
        "p(\\theta,\\tau|x) &\\propto{} p(\\theta,\\tau,x) = p(x|\\theta)p(\\theta)p(\\tau) \\quad (\\theta \\perp\\!\\!\\perp \\tau) \\leftarrow \\text{independent priors} & p(\\theta|x,\\theta_0,\\tau_0, \\tau) &={} \\text{N}\\left(\\frac{\\left(\\tau_0 \\theta_0+\\tau\\sum_{i=1}^{n}x_{i}\\right)}{(\\tau_0+n\\tau)}, \\sigma^{-2}=\\tau_0+n\\tau \\right)\\\\\n",
        "&={}  \\left[\\prod_{i=1}^n\\sqrt{\\frac{\\tau}{2\\pi}} e^{-\\frac{\\tau\\left(x_i-\\theta\\right)^2}{2}}\\right] \\sqrt{\\frac{\\tau_0}{2\\pi}} e^{-\\frac{\\tau_0\\left(\\theta-\\theta_0\\right)^2}{2}} \\frac{\\beta ^{\\alpha}}{\\Gamma(\\alpha)} \\tau^{\\alpha -1}e^{-\\beta \\tau} & p(\\tau|x, \\alpha, \\beta, \\theta) &={} \\text{Gamma}\\left(\\frac{\\alpha}{2}+\\frac{n}{2}, \\frac{\\beta}{2}+\\frac{1}{2}\\sum_{i=1}^n\\left(x_i-\\theta\\right)^2 \\right)\\\\{}\\\\\n",
        "\\end{align*}$$\n",
        "\n",
        "How about instead we consider a \"[location-scale-t](https://en.wikipedia.org/wiki/Student%27s_t-distribution#Location-scale_t-distribution)-norm-halfnorm-discrete-uniform\" specification?\n",
        "\n",
        "$$\\large\n",
        "\\overset{x_i\\; \\sim\\; \\text{location-scale-t}(\\mu, \\sigma^2, \\nu)}{\\quad\\quad\\quad p(x|\\mu,\\sigma^2, \\nu)} = {\\prod_{i=1}^n\n",
        "\\frac{\\Gamma\\left(\\frac{\\nu+1}{2}\\right)}{\\Gamma\\left(\\frac{\\nu}{2}\\right) \\sqrt{\\pi \\nu \\sigma^2}}\\left(1+\\frac{1}{\\nu} \\frac{(x_i-\\mu)^2}{\\sigma^2}\\right)^{-(\\nu+1) / 2}}$$\n",
        "\n",
        "$$\\scriptsize\n",
        "\\begin{align}\n",
        "p(\\mu | \\mu_0, \\tau_0) &={} \\sqrt{\\frac{\\tau_0}{2\\pi}} e^{-\\frac{\\tau_0}{2}\\left(\\mu-\\mu_0\\right)^2} & p(\\sigma^2 | \\sigma_0^2) &={} \\sqrt{\\frac{2}{\\pi\\sigma_0^2}} \\exp \\left(-\\frac{(\\sigma^2)^2}{2 \\sigma_0^2}\\right) 1_{[0,\\infty]}(\\sigma^2) & p(\\nu=i) &={} \\Bigg\\{ \\begin{array}{cl} \\frac{1}{100} & \\text{for }i=1,\\cdots,100\\\\ 0 & \\text{otherwise} \\end{array}\\\\\n",
        "& \\textrm{normal} && \\textrm{half-normal} && \\textrm{discrete uniform}\n",
        "\\end{align}\n",
        "$$\n",
        "\n",
        "Um yeah we're gonna need a Metroposlis cleanup on aisles one two and three  \n",
        "(or a slice or adapative squeeze rejection sampling steps... in place of Metroposlis steps)\n",
        "\n",
        "*Implement the a Metroposlis within Gibbs algorithm to smaple from the posterior of the above specification. Use a \"smallish\" sample size, say $n=100$ and implement your acceptance probability on a log-scale as described in [piazza post @65_f1](https://piazza.com/class/m5jvyco84083fm/post/65_f1)*\n",
        "\n",
        "\n"
      ]
    },
    {
      "cell_type": "markdown",
      "source": [
        "#### Question 1 Answer\n",
        "\n",
        "Updating $\\mu$ (Gibbs Sampling)\n",
        "\n",
        "- Given $x_1, ..., x_n, \\sigma^2,$ and v, the full condition of $\\mu$ is:\n",
        "\n",
        "$$\\mu | x, \\sigma^2, v \\sim N \\left( \\frac{\\tau_0 \\mu_0 + \\frac{n}{\\sigma^2}\\sum x_i}{\\tau_0 +\\frac{n}{\\sigma^2}}, \\frac{1}{\\tau_0 +\\frac{n}{\\sigma^2}}\n",
        "\\right) $$\n",
        "\n",
        "Updating $\\sigma^2$ (Gibbs Sampling)\n",
        "\n",
        "- the full condition follows a half-normal distribution:\n",
        "\n",
        "$$\\sigma^2 |x, \\mu, v \\propto exp \\left( -\\frac{(\\sigma^2)^2}{2\\sigma_0^2} \\right) \\prod^n_{i=1} \\left( 1+\\frac{1}{v} \\frac{(x_i-\\mu)^2}{\\sigma^2}\\right)^{-\\frac{v+1}{2}}$$\n",
        "\n",
        "- use sampling method such as slice sampling or rejection sampling to update $\\sigma^2$\n",
        "\n",
        "\n",
        "Updating v (Metropolis-Hastings Step)\n",
        "\n",
        "- v follows a discrete uniform prior, so we propose a new value v* and accept it with probability:\n",
        "\n",
        "$$A=min \\left( 1, \\frac{p(x|\\mu,\\sigma^2, v^*)}{p(x|\\mu,\\sigma^2,v)}\\right)$$\n",
        "\n",
        "- the likelihood term is:\n",
        "$$p(x| \\mu, \\sigma^2, v) = \\prod^n_{i=1} \\frac{\\Gamma (\\frac{v+1}{2})}{\\Gamma (\\frac{v}{s})\\sqrt{\\pi v \\sigma^2}} \\left( 1+ \\frac{1}{v} \\frac{(x_i-\\mu)^2}{\\sigma^2}\\right)^{-(v+1)/2}$$\n",
        "- proposing a new $v^*$ from a symmetric proposaal distribution and accept/reject based on the log acceptance probability"
      ],
      "metadata": {
        "id": "toF_nUfwYIJU"
      },
      "id": "toF_nUfwYIJU"
    },
    {
      "cell_type": "code",
      "source": [
        "import numpy as np\n",
        "import scipy.stats as stats\n",
        "import matplotlib.pyplot as plt\n",
        "\n",
        "# Function to compute log-likelihood using Student-t distribution\n",
        "def student_t_log_likelihood(x, mu, sigma2, nu, epsilon=1e-10):\n",
        "    if nu <= 0:  # Prevent invalid degrees of freedom\n",
        "        return -np.inf\n",
        "    log_likelihood_values = stats.t.logpdf(x, df=nu, loc=mu, scale=np.sqrt(sigma2))\n",
        "    return np.sum(log_likelihood_values)  # Summing log-likelihood instead of multiplying probabilities\n",
        "\n",
        "# Metropolis-within-Gibbs sampler\n",
        "def metropolis_within_gibbs(x, mu0=0, tau0=1, sigma0=1, n_iter=5000):\n",
        "    n = len(x)\n",
        "\n",
        "    # Initialize parameters\n",
        "    mu = np.mean(x)\n",
        "    sigma2 = np.var(x)\n",
        "    nu = 10  # Initial degrees of freedom\n",
        "\n",
        "    samples = np.zeros((n_iter, 3))\n",
        "\n",
        "    for i in range(n_iter):\n",
        "        # 1. Update mu (Gibbs step)\n",
        "        mu_n = (tau0 * mu0 + (n / sigma2) * np.sum(x)) / (tau0 + n / sigma2)\n",
        "        sigma_n = np.sqrt(1 / (tau0 + n / sigma2))\n",
        "        mu = np.random.normal(mu_n, sigma_n)\n",
        "\n",
        "        # 2. Update sigma^2 (Half-Normal rejection sampling)\n",
        "        while True:\n",
        "            sigma2_prop = np.abs(np.random.normal(0, sigma0))  # Half-normal proposal\n",
        "            ratio = np.exp(-((sigma2_prop**2) / (2 * sigma0**2))) / np.exp(-((sigma2**2) / (2 * sigma0**2)))\n",
        "            if np.random.uniform() < ratio:\n",
        "                sigma2 = sigma2_prop\n",
        "                break\n",
        "\n",
        "        # 3. Update nu (Metropolis-Hastings step)\n",
        "        nu_prop = np.random.randint(1, 101)  # Ensure nu is always positive\n",
        "        log_acceptance_ratio = student_t_log_likelihood(x, mu, sigma2, nu_prop) - student_t_log_likelihood(x, mu, sigma2, nu)\n",
        "\n",
        "        if np.log(np.random.uniform()) < log_acceptance_ratio:\n",
        "            nu = nu_prop  # Accept proposal\n",
        "\n",
        "        # Store samples\n",
        "        samples[i] = [mu, sigma2, nu]\n",
        "\n",
        "    return samples\n",
        "\n",
        "# Generate synthetic data from a Student-t distribution\n",
        "np.random.seed(42)\n",
        "n = 100\n",
        "true_mu = 0\n",
        "true_sigma2 = 1\n",
        "true_nu = 10\n",
        "x = stats.t.rvs(df=true_nu, loc=true_mu, scale=np.sqrt(true_sigma2), size=n)\n",
        "\n",
        "# Run the sampler\n",
        "samples = metropolis_within_gibbs(x, n_iter=5000)\n",
        "\n",
        "# Plot the results\n",
        "fig, axs = plt.subplots(3, 1, figsize=(8, 10))\n",
        "axs[0].plot(samples[:, 0], label=\"mu\")\n",
        "axs[0].set_title(\"Trace plot of mu\")\n",
        "axs[0].legend()\n",
        "\n",
        "axs[1].plot(samples[:, 1], label=\"sigma^2\")\n",
        "axs[1].set_title(\"Trace plot of sigma^2\")\n",
        "axs[1].legend()\n",
        "\n",
        "axs[2].plot(samples[:, 2], label=\"nu\")\n",
        "axs[2].set_title(\"Trace plot of nu\")\n",
        "axs[2].legend()\n",
        "\n",
        "plt.tight_layout()\n",
        "plt.show()\n",
        "\n",
        "# Print posterior mean estimates\n",
        "mu_est = np.mean(samples[:, 0])\n",
        "sigma2_est = np.mean(samples[:, 1])\n",
        "nu_est = np.mean(samples[:, 2])\n",
        "\n",
        "print(f\"Posterior Mean Estimates:\\nμ = {mu_est:.3f}, σ² = {sigma2_est:.3f}, ν = {nu_est:.3f}\")\n"
      ],
      "metadata": {
        "colab": {
          "base_uri": "https://localhost:8080/",
          "height": 1000
        },
        "id": "271B2BxXocXu",
        "outputId": "67cbb522-633b-4074-a1e2-ea501e1d6f56"
      },
      "id": "271B2BxXocXu",
      "execution_count": 5,
      "outputs": [
        {
          "output_type": "display_data",
          "data": {
            "text/plain": [
              "<Figure size 800x1000 with 3 Axes>"
            ],
            "image/png": "[encoded data removed]"
          },
          "metadata": {}
        },
        {
          "output_type": "stream",
          "name": "stdout",
          "text": [
            "Posterior Mean Estimates:\n",
            "μ = -6.241, σ² = 0.613, ν = 1.033\n"
          ]
        }
      ]
    },
    {
      "cell_type": "markdown",
      "source": [
        "Posterior Mean $\\mu = -6.241$\n",
        "\n",
        "The estimate of $\\mu$ is significantly different from 0, suggesting that one or more extreme values in the sample have strongly influenced the posterior.\n",
        "Small samples are more susceptible to variability, meaning that one or two extreme points can dominate the estimate.\n",
        "If a few observations are negative and extreme, the posterior mean will shift significantly in that direction.\n",
        "\n",
        "Posterior Mean of $\\sigma^2 = 0.613$\n",
        "\n",
        "The estimated variance is lower than the expected value (1.0).\n",
        "This suggests that, in this particular sample, the observed spread of data is less than expected.\n",
        "Small samples may not capture the full variability present in the true distribution.\n",
        "\n",
        "Posterior Mean of $v = 1.033$\n",
        "\n",
        "The degrees of freedom estimate is very close to 1, suggesting that the model believes the data follows a nearly Cauchy-like distribution.\n",
        "A t-distribution with $v=1$ is equivalent to a Cauchy distribution, which has extremely heavy tails.\n",
        "This result implies that the data contains extreme outliers or the small sample is not capturing normal-like behavior.\n",
        "\n",
        "Conclusion\n",
        "\n",
        "A small sample size leads to highly uncertain estimates.\n",
        "The model mistakes the small sample for a heavy-tailed distribution, causing\n",
        "$v$ to be underestimated.\n",
        "The estimates of $\\mu$ and $\\sigma^2$ are unstable, making it difficult to determine the true underlying distribution.\n",
        "Adding more data would likely shift $v$ upward, meaning the model would recognize that the data isn’t as heavy-tailed as it seems in small samples."
      ],
      "metadata": {
        "id": "yj0QTejto_VH"
      },
      "id": "yj0QTejto_VH"
    },
    {
      "cell_type": "markdown",
      "source": [
        "### Q2: explore the role of sample size in providing inference for the degrees of freedom parameter $\\nu$\n",
        "\n",
        "*Implement the specification above using `PyMC` where you can explore inference on $\\nu$ at different sample sizes. Provide a summarization and explanation of your findings.*\n"
      ],
      "metadata": {
        "id": "j-oZTbi3YFAz"
      },
      "id": "j-oZTbi3YFAz"
    },
    {
      "cell_type": "code",
      "source": [
        "import numpy as np\n",
        "import pymc as pm\n",
        "import arviz as az\n",
        "import matplotlib.pyplot as plt\n",
        "import scipy.stats as stats\n",
        "\n",
        "# Function to run PyMC3 model for different sample sizes\n",
        "def run_pymc_student_t(n):\n",
        "    np.random.seed(42)\n",
        "\n",
        "    # Generate synthetic data from a Student-t distribution\n",
        "    true_mu = 0\n",
        "    true_sigma = 1\n",
        "    true_nu = 10  # True degrees of freedom\n",
        "    x = stats.t.rvs(df=true_nu, loc=true_mu, scale=true_sigma, size=n)\n",
        "\n",
        "    # Define the Bayesian model in PyMC\n",
        "    with pm.Model() as model:\n",
        "        mu = pm.Normal(\"mu\", mu=0, sigma=1)\n",
        "        sigma = pm.HalfNormal(\"sigma\", sigma=1)\n",
        "        nu = pm.DiscreteUniform(\"nu\", lower=1, upper=100)\n",
        "\n",
        "        likelihood = pm.StudentT(\"x\", nu=nu, mu=mu, sigma=sigma, observed=x)\n",
        "\n",
        "        trace = pm.sample(2000, tune=1000, chains=2, return_inferencedata=True)\n",
        "\n",
        "    return trace\n",
        "\n",
        "# Run models for different sample sizes\n",
        "sample_sizes = [50, 100, 500, 1000]\n",
        "traces = {n: run_pymc_student_t(n) for n in sample_sizes}\n",
        "\n",
        "# Plot posterior distributions of nu\n",
        "fig, axs = plt.subplots(2, 2, figsize=(12, 10))\n",
        "\n",
        "for ax, n in zip(axs.flatten(), sample_sizes):\n",
        "    az.plot_posterior(traces[n], var_names=[\"nu\"], ax=ax, hdi_prob=0.95)\n",
        "    ax.set_title(f\"Sample Size: {n}\")\n",
        "\n",
        "plt.tight_layout()\n",
        "plt.show()\n"
      ],
      "metadata": {
        "colab": {
          "base_uri": "https://localhost:8080/",
          "height": 1000,
          "referenced_widgets": [
            "58a3f914dbb240a59bae5f1af64dfff6",
            "c532621ac33e45e2a513534f5b8185bf",
            "744df91728bf4140afe81641c0ff5026",
            "0f97806519d54cb4b8eca62bfe135f30",
            "3d7e9f4c8ad244158cbe91a9c11239e8",
            "3fca6e75344543c0b385f336e6cd99ee",
            "b79a0f77f07d4b9c91a319759bafe7d1",
            "6466fda776ef4138a89b69cfe96d1b30"
          ]
        },
        "id": "bIBNDIBue9xU",
        "outputId": "2f90fe94-4075-474b-a5c3-b343857ecdf6"
      },
      "id": "bIBNDIBue9xU",
      "execution_count": 1,
      "outputs": [
        {
          "output_type": "display_data",
          "data": {
            "text/plain": [
              "Output()"
            ],
            "application/vnd.jupyter.widget-view+json": {
              "version_major": 2,
              "version_minor": 0,
              "model_id": "58a3f914dbb240a59bae5f1af64dfff6"
            }
          },
          "metadata": {}
        },
        {
          "output_type": "display_data",
          "data": {
            "text/plain": [],
            "text/html": [
              "<pre style=\"white-space:pre;overflow-x:auto;line-height:normal;font-family:Menlo,'DejaVu Sans Mono',consolas,'Courier New',monospace\"></pre>\n"
            ]
          },
          "metadata": {}
        },
        {
          "output_type": "display_data",
          "data": {
            "text/plain": [
              "Output()"
            ],
            "application/vnd.jupyter.widget-view+json": {
              "version_major": 2,
              "version_minor": 0,
              "model_id": "744df91728bf4140afe81641c0ff5026"
            }
          },
          "metadata": {}
        },
        {
          "output_type": "display_data",
          "data": {
            "text/plain": [],
            "text/html": [
              "<pre style=\"white-space:pre;overflow-x:auto;line-height:normal;font-family:Menlo,'DejaVu Sans Mono',consolas,'Courier New',monospace\"></pre>\n"
            ]
          },
          "metadata": {}
        },
        {
          "output_type": "display_data",
          "data": {
            "text/plain": [
              "Output()"
            ],
            "application/vnd.jupyter.widget-view+json": {
              "version_major": 2,
              "version_minor": 0,
              "model_id": "3d7e9f4c8ad244158cbe91a9c11239e8"
            }
          },
          "metadata": {}
        },
        {
          "output_type": "display_data",
          "data": {
            "text/plain": [],
            "text/html": [
              "<pre style=\"white-space:pre;overflow-x:auto;line-height:normal;font-family:Menlo,'DejaVu Sans Mono',consolas,'Courier New',monospace\"></pre>\n"
            ]
          },
          "metadata": {}
        },
        {
          "output_type": "stream",
          "name": "stderr",
          "text": [
            "ERROR:pymc.stats.convergence:The effective sample size per chain is smaller than 100 for some parameters.  A higher number is needed for reliable rhat and ess computation. See https://arxiv.org/abs/1903.08008 for details\n"
          ]
        },
        {
          "output_type": "display_data",
          "data": {
            "text/plain": [
              "Output()"
            ],
            "application/vnd.jupyter.widget-view+json": {
              "version_major": 2,
              "version_minor": 0,
              "model_id": "b79a0f77f07d4b9c91a319759bafe7d1"
            }
          },
          "metadata": {}
        },
        {
          "output_type": "display_data",
          "data": {
            "text/plain": [],
            "text/html": [
              "<pre style=\"white-space:pre;overflow-x:auto;line-height:normal;font-family:Menlo,'DejaVu Sans Mono',consolas,'Courier New',monospace\"></pre>\n"
            ]
          },
          "metadata": {}
        },
        {
          "output_type": "stream",
          "name": "stderr",
          "text": [
            "ERROR:pymc.stats.convergence:The effective sample size per chain is smaller than 100 for some parameters.  A higher number is needed for reliable rhat and ess computation. See https://arxiv.org/abs/1903.08008 for details\n"
          ]
        },
        {
          "output_type": "display_data",
          "data": {
            "text/plain": [
              "<Figure size 1200x1000 with 4 Axes>"
            ],
            "image/png": "[encoded data removed]"
          },
          "metadata": {}
        }
      ]
    },
    {
      "cell_type": "code",
      "source": [
        "for n in sample_sizes:\n",
        "    nu_mean = np.mean(traces[n].posterior[\"nu\"].values)\n",
        "    nu_hdi = az.hdi(traces[n], var_names=[\"nu\"], hdi_prob=0.95)[\"nu\"]\n",
        "\n",
        "    print(f\"Sample Size: {n}\")\n",
        "    print(f\"Posterior Mean of nu: {nu_mean:.2f}\")\n",
        "    print(f\"95% HDI of nu: {nu_hdi.values}\")\n",
        "    print(\"-\" * 40)\n"
      ],
      "metadata": {
        "colab": {
          "base_uri": "https://localhost:8080/"
        },
        "id": "HzfAGDMLfdVw",
        "outputId": "84213ca9-947f-4570-c9d5-53f645b59552"
      },
      "id": "HzfAGDMLfdVw",
      "execution_count": 2,
      "outputs": [
        {
          "output_type": "stream",
          "name": "stdout",
          "text": [
            "Sample Size: 50\n",
            "Posterior Mean of nu: 53.16\n",
            "95% HDI of nu: [ 8. 98.]\n",
            "----------------------------------------\n",
            "Sample Size: 100\n",
            "Posterior Mean of nu: 9.65\n",
            "95% HDI of nu: [ 2. 24.]\n",
            "----------------------------------------\n",
            "Sample Size: 500\n",
            "Posterior Mean of nu: 22.10\n",
            "95% HDI of nu: [ 5. 69.]\n",
            "----------------------------------------\n",
            "Sample Size: 1000\n",
            "Posterior Mean of nu: 19.34\n",
            "95% HDI of nu: [ 6. 52.]\n",
            "----------------------------------------\n"
          ]
        }
      ]
    },
    {
      "cell_type": "markdown",
      "source": [
        "#### **Interpretation**\n",
        "\n",
        "**Small Sample Size (n=50)**\n",
        "\n",
        "- Posterior Mean of v: 53.16, HDI of v: [8,98]\n",
        "\n",
        "The estimate of v is highly uncertain, with a wide range from 8 to 98.\n",
        "The mean estimate 53.16 is quite large, suggesting that the model has trouble distinguishing between a heavy-tailed distribution (low ν) and a normal distribution (high ν).\n",
        "This happens because with a small sample, extreme values (outliers) have a large effect on the posterior.\n",
        "The credible interval is so wide that we cannot confidently determine the true shape of the distribution.\n",
        "\n",
        "**Moderate Sample Size (n=100)**\n",
        "- Posterior Mean of v= 9.65, HDI of v: [2,24]\n",
        "\n",
        "\n",
        "The posterior estimate of vis now much closer to the true value (10).\n",
        "The credible interval is still somewhat wide, but the uncertainty has significantly decreased.\n",
        "The model is better able to capture the heavy-tailed nature of the distribution.\n",
        "This suggests that with 100 observations, we start getting reasonable inference about v.\n",
        "\n",
        "\n",
        "**Larger Sample Size (n=500)**\n",
        "- Posterior Mean of v= 22.10, HDI of v: [5,69]\n",
        "\n",
        "The mean estimate is now drifting higher than the true value (10).\n",
        "The credible interval is still relatively wide (5 to 69) but narrower compared to n=50.\n",
        "The model might still be influenced by some extreme values, leading to an overestimation of v.\n",
        "More data reduces variance, but we are still in a region where distinguishing between heavy tails and normality is difficult.\n",
        "\n",
        "\n",
        "**Large Sample Size (n=1000)**\n",
        "- Posterior Mean of v= 19.34, HDI of v: [6,52]\n",
        "\n",
        "The mean estimate is closer to 10, but still slightly overestimated.\n",
        "The credible interval is getting tighter (6 to 52), indicating more confidence in the estimate.\n",
        "This suggests that with a large enough sample, we can make stronger inferences about v, but there is still some bias.\n",
        "\n"
      ],
      "metadata": {
        "id": "17z3FiJZhlAv"
      },
      "id": "17z3FiJZhlAv"
    },
    {
      "cell_type": "markdown",
      "id": "306b3612",
      "metadata": {
        "id": "306b3612"
      },
      "source": [
        "### Q3: the posterior predictive distribution does something like the following...\n",
        "\n",
        "Let $p(\\tau_i)$ be $\\require{cancel} \\textrm{gamma}\\big(\\tau_i | \\alpha = \\frac{\\nu}{2}, \\overset{\\textrm{rate}\\xcancel{\\textrm{scale}}}{\\beta = \\frac{\\nu}{2}}\\big)$ and let $p(y_i|\\tau_i)$ be $\\textrm{N}(y_i | 0,\\tau_i)$ and now integrate out the uncertainty in $\\tau_i$ and see what distribution is left over for $y_i$.\n",
        "\n",
        "*Go look at the gamma distribution and remember that you know that the integrals of unnormalized densities are the inverse of their normalizing constants. Then go look at the t distribution and determine what distribution the following expression defines. Then explain why the behavior demonstrated here is analagous to that of the posterior predictive distribution.*\n",
        "\n",
        "$$\\int p(y_i|\\tau_i) p(\\tau_i)  d\\tau_i = \\int \\sqrt{\\frac{\\tau_i}{2\\pi}}e^{-\\frac{1}{2}\\tau_i y_i^2} \\frac {\\frac{\\nu}{2}^{\\frac{\\nu}{2}}}{\\Gamma \\left(\\frac{\\nu}{2}\\right)} \\tau_i^{\\frac{\\nu}{2}-1}e^{-\\frac{\\nu}{2}\\tau_i} d\\tau_i$$\n",
        "\n"
      ]
    },
    {
      "cell_type": "markdown",
      "id": "bdd68087",
      "metadata": {
        "id": "bdd68087"
      },
      "source": [
        "#### Q3 Answer\n",
        "\n",
        "We are given that:\n",
        "\n",
        "- $\\tau_i \\sim Gamma (\\alpha = \\frac{v}{2}, \\beta = \\frac{v}{2})$\n",
        "- $y_i | \\tau_i \\sim N (0, \\tau_i^{-1})$\n",
        "\n",
        "We want to integrate out $\\tau_i$ to find the marginal distribution of $y_i$:\n",
        "\n",
        "$$p(y_i) = \\int p(y_i | \\tau_i) p(\\tau_i) d\\tau_i$$\n",
        "\n",
        "substituting the distributions\n",
        "- likelihood term $p(y_i | \\tau_i)$ follows a normal distribution\n",
        "$$p(y_i|\\tau_i) = \\sqrt{\\frac{\\tau_i}{2 \\pi}}exp (-\\frac{1}{2}\\tau_i y_i^2)$$\n",
        "- prior $p(\\tau_i)$ follows gamma\n",
        "$$p(\\tau_i) = \\frac{\\frac{v}{2}^{\\frac{v}{2}}}{\\Gamma(\\frac{v}{2})} \\tau_i^{\\frac{v}{2}-1} e^{-\\frac{v}{2}\\tau_i}$$\n",
        "\n",
        "Thus, integral becomes:\n",
        "\n",
        "$$p(y_i) = \\int_{0}^{\\infty} \\left( \\sqrt{\\frac{\\tau_i}{2 \\pi}}e^{-\\frac{1}{2} \\tau_i y_i^2} \\right) \\left( \\frac{\\frac{v}{2}^{\\frac{v}{2}}}{\\Gamma(\\frac{v}{2})} \\tau_i^{\\frac{v}{2}-1} e^{-\\frac{v}{2}\\tau_i} \\right)d\\tau_i$$\n",
        "\n",
        "$$p(y_i) = \\frac{\\frac{v}{2}^{\\frac{v}{2}}}{\\Gamma(\\frac{v}{2})} \\sqrt{\\frac{1}{2 \\pi}} \\int_{0}^{\\infty} \\tau_i^{\\frac{v}{2}-\\frac{1}{2}} e^{-\\frac{1}{2}(v+y_i^2)\\tau_i} d\\tau_i$$\n",
        "\n",
        "Forming the Gamma integral:\n",
        "\n",
        "$$\\int_{0}^{\\infty} x^{a-1}e^{-bx} dx = \\frac{\\Gamma(a)}{b^a}$$, for $a>0, b>0$\n",
        "\n",
        "comparing terms:\n",
        "- $a=\\frac{v+1}{2}$\n",
        "\n",
        "- $b=\\frac{v+y^2_i}{2}$\n",
        "\n",
        "\n",
        "appling gamma integral formula\n",
        "\n",
        "$$p(y_i) = \\frac{\\frac{v}{2}^{\\frac{v}{2}}}{\\Gamma(\\frac{v}{2})} \\sqrt{\\frac{1}{2 \\pi}} \\cdot \\frac{\\Gamma (\\frac{v+1}{2})}{(\\frac{v+y^2_i}{2})^{\\frac{v+1}{2}}}$$\n",
        "\n",
        "$$p(y_i) = \\frac{\\Gamma (\\frac{v+1}{2})}{\\Gamma(\\frac{v}{2})}\\frac{1}{\\sqrt{\\pi v}} \\left( 1+\\frac{y_i^2}{v} \\right)^{-\\frac{v+1}{2}}$$\n",
        "- exactly the probability density function of student's t-distribution $y_i \\sim t_v(0,1)$\n",
        "\n",
        "By integrating out $\\tau_i$, we derive that the marginal distribution of $y_i$\n",
        "  follows a Student's t-distribution.\n",
        "\n",
        "- The posterior predictive distribution for a normal model with a gamma prior on precision (inverse variance) follows a Student’s t-distribution.\n",
        "- The heavy tails of the Student's t-distribution arise naturally from the uncertainty in variance (which comes from integrating out $\\tau_i$).\n",
        "- This is analogous to Bayesian inference: instead of assuming a fixed normal likelihood, we account for variance uncertainty and obtain a more robust, heavy-tailed predictive distribution.\n"
      ]
    },
    {
      "cell_type": "code",
      "execution_count": null,
      "id": "45cff2c7",
      "metadata": {
        "id": "45cff2c7"
      },
      "outputs": [],
      "source": []
    }
  ],
  "metadata": {
    "kernelspec": {
      "display_name": "Python 3 (ipykernel)",
      "language": "python",
      "name": "python3"
    },
    "language_info": {
      "codemirror_mode": {
        "name": "ipython",
        "version": 3
      },
      "file_extension": ".py",
      "mimetype": "text/x-python",
      "name": "python",
      "nbconvert_exporter": "python",
      "pygments_lexer": "ipython3",
      "version": "3.11.4"
    },
    "colab": {
      "provenance": []
    },
    "widgets": {
      "application/vnd.jupyter.widget-state+json": {
        "58a3f914dbb240a59bae5f1af64dfff6": {
          "model_module": "@jupyter-widgets/output",
          "model_name": "OutputModel",
          "model_module_version": "1.0.0",
          "state": {
            "_dom_classes": [],
            "_model_module": "@jupyter-widgets/output",
            "_model_module_version": "1.0.0",
            "_model_name": "OutputModel",
            "_view_count": null,
            "_view_module": "@jupyter-widgets/output",
            "_view_module_version": "1.0.0",
            "_view_name": "OutputView",
            "layout": "IPY_MODEL_c532621ac33e45e2a513534f5b8185bf",
            "msg_id": "",
            "outputs": [
              {
                "output_type": "display_data",
                "data": {
                  "text/plain": "                                                                                                                   \n \u001b[1m          \u001b[0m \u001b[1m       \u001b[0m \u001b[1m          \u001b[0m \u001b[1m \u001b[0m\u001b[1mStep    \u001b[0m\u001b[1m \u001b[0m \u001b[1m \u001b[0m\u001b[1mGrad    \u001b[0m\u001b[1m \u001b[0m \u001b[1m        \u001b[0m \u001b[1m         \u001b[0m \u001b[1m \u001b[0m\u001b[1mAccept  \u001b[0m\u001b[1m \u001b[0m \u001b[1m \u001b[0m\u001b[1mSampling\u001b[0m\u001b[1m \u001b[0m \u001b[1m         \u001b[0m \u001b[1m          \u001b[0m \n \u001b[1m \u001b[0m\u001b[1mProgress\u001b[0m\u001b[1m \u001b[0m \u001b[1m \u001b[0m\u001b[1mDraws\u001b[0m\u001b[1m \u001b[0m \u001b[1m \u001b[0m\u001b[1mDiverge…\u001b[0m\u001b[1m \u001b[0m \u001b[1m \u001b[0m\u001b[1msize    \u001b[0m\u001b[1m \u001b[0m \u001b[1m \u001b[0m\u001b[1mevals   \u001b[0m\u001b[1m \u001b[0m \u001b[1m \u001b[0m\u001b[1mTuning\u001b[0m\u001b[1m \u001b[0m \u001b[1m \u001b[0m\u001b[1mScaling\u001b[0m\u001b[1m \u001b[0m \u001b[1m \u001b[0m\u001b[1mRate    \u001b[0m\u001b[1m \u001b[0m \u001b[1m \u001b[0m\u001b[1mSpeed   \u001b[0m\u001b[1m \u001b[0m \u001b[1m \u001b[0m\u001b[1mElapsed\u001b[0m\u001b[1m \u001b[0m \u001b[1m \u001b[0m\u001b[1mRemaini…\u001b[0m\u001b[1m \u001b[0m \n ───────────────────────────────────────────────────────────────────────────────────────────────────────────────── \n  \u001b[38;2;31;119;180m━━━━━━━━\u001b[0m   3000    0          1.17       3          False    58.56     0.00       1674.92    0:00:01   0:00:00   \n                                                                                    draws/s                        \n  \u001b[38;2;31;119;180m━━━━━━━━\u001b[0m   3000    0          0.88       3          False    100.00    1.27       851.91     0:00:03   0:00:00   \n                                                                                    draws/s                        \n                                                                                                                   \n",
                  "text/html": "<pre style=\"white-space:pre;overflow-x:auto;line-height:normal;font-family:Menlo,'DejaVu Sans Mono',consolas,'Courier New',monospace\">                                                                                                                   \n <span style=\"font-weight: bold\">          </span> <span style=\"font-weight: bold\">       </span> <span style=\"font-weight: bold\">          </span> <span style=\"font-weight: bold\"> Step     </span> <span style=\"font-weight: bold\"> Grad     </span> <span style=\"font-weight: bold\">        </span> <span style=\"font-weight: bold\">         </span> <span style=\"font-weight: bold\"> Accept   </span> <span style=\"font-weight: bold\"> Sampling </span> <span style=\"font-weight: bold\">         </span> <span style=\"font-weight: bold\">          </span> \n <span style=\"font-weight: bold\"> Progress </span> <span style=\"font-weight: bold\"> Draws </span> <span style=\"font-weight: bold\"> Diverge… </span> <span style=\"font-weight: bold\"> size     </span> <span style=\"font-weight: bold\"> evals    </span> <span style=\"font-weight: bold\"> Tuning </span> <span style=\"font-weight: bold\"> Scaling </span> <span style=\"font-weight: bold\"> Rate     </span> <span style=\"font-weight: bold\"> Speed    </span> <span style=\"font-weight: bold\"> Elapsed </span> <span style=\"font-weight: bold\"> Remaini… </span> \n ───────────────────────────────────────────────────────────────────────────────────────────────────────────────── \n  <span style=\"color: #1f77b4; text-decoration-color: #1f77b4\">━━━━━━━━</span>   3000    0          1.17       3          False    58.56     0.00       1674.92    0:00:01   0:00:00   \n                                                                                    draws/s                        \n  <span style=\"color: #1f77b4; text-decoration-color: #1f77b4\">━━━━━━━━</span>   3000    0          0.88       3          False    100.00    1.27       851.91     0:00:03   0:00:00   \n                                                                                    draws/s                        \n                                                                                                                   \n</pre>\n"
                },
                "metadata": {}
              }
            ]
          }
        },
        "c532621ac33e45e2a513534f5b8185bf": {
          "model_module": "@jupyter-widgets/base",
          "model_name": "LayoutModel",
          "model_module_version": "1.2.0",
          "state": {
            "_model_module": "@jupyter-widgets/base",
            "_model_module_version": "1.2.0",
            "_model_name": "LayoutModel",
            "_view_count": null,
            "_view_module": "@jupyter-widgets/base",
            "_view_module_version": "1.2.0",
            "_view_name": "LayoutView",
            "align_content": null,
            "align_items": null,
            "align_self": null,
            "border": null,
            "bottom": null,
            "display": null,
            "flex": null,
            "flex_flow": null,
            "grid_area": null,
            "grid_auto_columns": null,
            "grid_auto_flow": null,
            "grid_auto_rows": null,
            "grid_column": null,
            "grid_gap": null,
            "grid_row": null,
            "grid_template_areas": null,
            "grid_template_columns": null,
            "grid_template_rows": null,
            "height": null,
            "justify_content": null,
            "justify_items": null,
            "left": null,
            "margin": null,
            "max_height": null,
            "max_width": null,
            "min_height": null,
            "min_width": null,
            "object_fit": null,
            "object_position": null,
            "order": null,
            "overflow": null,
            "overflow_x": null,
            "overflow_y": null,
            "padding": null,
            "right": null,
            "top": null,
            "visibility": null,
            "width": null
          }
        },
        "744df91728bf4140afe81641c0ff5026": {
          "model_module": "@jupyter-widgets/output",
          "model_name": "OutputModel",
          "model_module_version": "1.0.0",
          "state": {
            "_dom_classes": [],
            "_model_module": "@jupyter-widgets/output",
            "_model_module_version": "1.0.0",
            "_model_name": "OutputModel",
            "_view_count": null,
            "_view_module": "@jupyter-widgets/output",
            "_view_module_version": "1.0.0",
            "_view_name": "OutputView",
            "layout": "IPY_MODEL_0f97806519d54cb4b8eca62bfe135f30",
            "msg_id": "",
            "outputs": [
              {
                "output_type": "display_data",
                "data": {
                  "text/plain": "                                                                                                                   \n \u001b[1m          \u001b[0m \u001b[1m       \u001b[0m \u001b[1m          \u001b[0m \u001b[1m \u001b[0m\u001b[1mStep    \u001b[0m\u001b[1m \u001b[0m \u001b[1m \u001b[0m\u001b[1mGrad    \u001b[0m\u001b[1m \u001b[0m \u001b[1m        \u001b[0m \u001b[1m         \u001b[0m \u001b[1m \u001b[0m\u001b[1mAccept  \u001b[0m\u001b[1m \u001b[0m \u001b[1m \u001b[0m\u001b[1mSampling\u001b[0m\u001b[1m \u001b[0m \u001b[1m         \u001b[0m \u001b[1m          \u001b[0m \n \u001b[1m \u001b[0m\u001b[1mProgress\u001b[0m\u001b[1m \u001b[0m \u001b[1m \u001b[0m\u001b[1mDraws\u001b[0m\u001b[1m \u001b[0m \u001b[1m \u001b[0m\u001b[1mDiverge…\u001b[0m\u001b[1m \u001b[0m \u001b[1m \u001b[0m\u001b[1msize    \u001b[0m\u001b[1m \u001b[0m \u001b[1m \u001b[0m\u001b[1mevals   \u001b[0m\u001b[1m \u001b[0m \u001b[1m \u001b[0m\u001b[1mTuning\u001b[0m\u001b[1m \u001b[0m \u001b[1m \u001b[0m\u001b[1mScaling\u001b[0m\u001b[1m \u001b[0m \u001b[1m \u001b[0m\u001b[1mRate    \u001b[0m\u001b[1m \u001b[0m \u001b[1m \u001b[0m\u001b[1mSpeed   \u001b[0m\u001b[1m \u001b[0m \u001b[1m \u001b[0m\u001b[1mElapsed\u001b[0m\u001b[1m \u001b[0m \u001b[1m \u001b[0m\u001b[1mRemaini…\u001b[0m\u001b[1m \u001b[0m \n ───────────────────────────────────────────────────────────────────────────────────────────────────────────────── \n  \u001b[38;2;31;119;180m━━━━━━━━\u001b[0m   3000    0          0.88       3          False    11.00     2.15       1521.73    0:00:01   0:00:00   \n                                                                                    draws/s                        \n  \u001b[38;2;31;119;180m━━━━━━━━\u001b[0m   3000    0          1.17       3          False    10.00     0.36       804.99     0:00:03   0:00:00   \n                                                                                    draws/s                        \n                                                                                                                   \n",
                  "text/html": "<pre style=\"white-space:pre;overflow-x:auto;line-height:normal;font-family:Menlo,'DejaVu Sans Mono',consolas,'Courier New',monospace\">                                                                                                                   \n <span style=\"font-weight: bold\">          </span> <span style=\"font-weight: bold\">       </span> <span style=\"font-weight: bold\">          </span> <span style=\"font-weight: bold\"> Step     </span> <span style=\"font-weight: bold\"> Grad     </span> <span style=\"font-weight: bold\">        </span> <span style=\"font-weight: bold\">         </span> <span style=\"font-weight: bold\"> Accept   </span> <span style=\"font-weight: bold\"> Sampling </span> <span style=\"font-weight: bold\">         </span> <span style=\"font-weight: bold\">          </span> \n <span style=\"font-weight: bold\"> Progress </span> <span style=\"font-weight: bold\"> Draws </span> <span style=\"font-weight: bold\"> Diverge… </span> <span style=\"font-weight: bold\"> size     </span> <span style=\"font-weight: bold\"> evals    </span> <span style=\"font-weight: bold\"> Tuning </span> <span style=\"font-weight: bold\"> Scaling </span> <span style=\"font-weight: bold\"> Rate     </span> <span style=\"font-weight: bold\"> Speed    </span> <span style=\"font-weight: bold\"> Elapsed </span> <span style=\"font-weight: bold\"> Remaini… </span> \n ───────────────────────────────────────────────────────────────────────────────────────────────────────────────── \n  <span style=\"color: #1f77b4; text-decoration-color: #1f77b4\">━━━━━━━━</span>   3000    0          0.88       3          False    11.00     2.15       1521.73    0:00:01   0:00:00   \n                                                                                    draws/s                        \n  <span style=\"color: #1f77b4; text-decoration-color: #1f77b4\">━━━━━━━━</span>   3000    0          1.17       3          False    10.00     0.36       804.99     0:00:03   0:00:00   \n                                                                                    draws/s                        \n                                                                                                                   \n</pre>\n"
                },
                "metadata": {}
              }
            ]
          }
        },
        "0f97806519d54cb4b8eca62bfe135f30": {
          "model_module": "@jupyter-widgets/base",
          "model_name": "LayoutModel",
          "model_module_version": "1.2.0",
          "state": {
            "_model_module": "@jupyter-widgets/base",
            "_model_module_version": "1.2.0",
            "_model_name": "LayoutModel",
            "_view_count": null,
            "_view_module": "@jupyter-widgets/base",
            "_view_module_version": "1.2.0",
            "_view_name": "LayoutView",
            "align_content": null,
            "align_items": null,
            "align_self": null,
            "border": null,
            "bottom": null,
            "display": null,
            "flex": null,
            "flex_flow": null,
            "grid_area": null,
            "grid_auto_columns": null,
            "grid_auto_flow": null,
            "grid_auto_rows": null,
            "grid_column": null,
            "grid_gap": null,
            "grid_row": null,
            "grid_template_areas": null,
            "grid_template_columns": null,
            "grid_template_rows": null,
            "height": null,
            "justify_content": null,
            "justify_items": null,
            "left": null,
            "margin": null,
            "max_height": null,
            "max_width": null,
            "min_height": null,
            "min_width": null,
            "object_fit": null,
            "object_position": null,
            "order": null,
            "overflow": null,
            "overflow_x": null,
            "overflow_y": null,
            "padding": null,
            "right": null,
            "top": null,
            "visibility": null,
            "width": null
          }
        },
        "3d7e9f4c8ad244158cbe91a9c11239e8": {
          "model_module": "@jupyter-widgets/output",
          "model_name": "OutputModel",
          "model_module_version": "1.0.0",
          "state": {
            "_dom_classes": [],
            "_model_module": "@jupyter-widgets/output",
            "_model_module_version": "1.0.0",
            "_model_name": "OutputModel",
            "_view_count": null,
            "_view_module": "@jupyter-widgets/output",
            "_view_module_version": "1.0.0",
            "_view_name": "OutputView",
            "layout": "IPY_MODEL_3fca6e75344543c0b385f336e6cd99ee",
            "msg_id": "",
            "outputs": [
              {
                "output_type": "display_data",
                "data": {
                  "text/plain": "                                                                                                                   \n \u001b[1m          \u001b[0m \u001b[1m       \u001b[0m \u001b[1m          \u001b[0m \u001b[1m \u001b[0m\u001b[1mStep    \u001b[0m\u001b[1m \u001b[0m \u001b[1m \u001b[0m\u001b[1mGrad    \u001b[0m\u001b[1m \u001b[0m \u001b[1m        \u001b[0m \u001b[1m         \u001b[0m \u001b[1m \u001b[0m\u001b[1mAccept  \u001b[0m\u001b[1m \u001b[0m \u001b[1m \u001b[0m\u001b[1mSampling\u001b[0m\u001b[1m \u001b[0m \u001b[1m         \u001b[0m \u001b[1m          \u001b[0m \n \u001b[1m \u001b[0m\u001b[1mProgress\u001b[0m\u001b[1m \u001b[0m \u001b[1m \u001b[0m\u001b[1mDraws\u001b[0m\u001b[1m \u001b[0m \u001b[1m \u001b[0m\u001b[1mDiverge…\u001b[0m\u001b[1m \u001b[0m \u001b[1m \u001b[0m\u001b[1msize    \u001b[0m\u001b[1m \u001b[0m \u001b[1m \u001b[0m\u001b[1mevals   \u001b[0m\u001b[1m \u001b[0m \u001b[1m \u001b[0m\u001b[1mTuning\u001b[0m\u001b[1m \u001b[0m \u001b[1m \u001b[0m\u001b[1mScaling\u001b[0m\u001b[1m \u001b[0m \u001b[1m \u001b[0m\u001b[1mRate    \u001b[0m\u001b[1m \u001b[0m \u001b[1m \u001b[0m\u001b[1mSpeed   \u001b[0m\u001b[1m \u001b[0m \u001b[1m \u001b[0m\u001b[1mElapsed\u001b[0m\u001b[1m \u001b[0m \u001b[1m \u001b[0m\u001b[1mRemaini…\u001b[0m\u001b[1m \u001b[0m \n ───────────────────────────────────────────────────────────────────────────────────────────────────────────────── \n  \u001b[38;2;31;119;180m━━━━━━━━\u001b[0m   3000    0          0.93       3          False    16.11     0.10       1568.66    0:00:01   0:00:00   \n                                                                                    draws/s                        \n  \u001b[38;2;31;119;180m━━━━━━━━\u001b[0m   3000    0          0.88       1          False    22.00     0.00       796.33     0:00:03   0:00:00   \n                                                                                    draws/s                        \n                                                                                                                   \n",
                  "text/html": "<pre style=\"white-space:pre;overflow-x:auto;line-height:normal;font-family:Menlo,'DejaVu Sans Mono',consolas,'Courier New',monospace\">                                                                                                                   \n <span style=\"font-weight: bold\">          </span> <span style=\"font-weight: bold\">       </span> <span style=\"font-weight: bold\">          </span> <span style=\"font-weight: bold\"> Step     </span> <span style=\"font-weight: bold\"> Grad     </span> <span style=\"font-weight: bold\">        </span> <span style=\"font-weight: bold\">         </span> <span style=\"font-weight: bold\"> Accept   </span> <span style=\"font-weight: bold\"> Sampling </span> <span style=\"font-weight: bold\">         </span> <span style=\"font-weight: bold\">          </span> \n <span style=\"font-weight: bold\"> Progress </span> <span style=\"font-weight: bold\"> Draws </span> <span style=\"font-weight: bold\"> Diverge… </span> <span style=\"font-weight: bold\"> size     </span> <span style=\"font-weight: bold\"> evals    </span> <span style=\"font-weight: bold\"> Tuning </span> <span style=\"font-weight: bold\"> Scaling </span> <span style=\"font-weight: bold\"> Rate     </span> <span style=\"font-weight: bold\"> Speed    </span> <span style=\"font-weight: bold\"> Elapsed </span> <span style=\"font-weight: bold\"> Remaini… </span> \n ───────────────────────────────────────────────────────────────────────────────────────────────────────────────── \n  <span style=\"color: #1f77b4; text-decoration-color: #1f77b4\">━━━━━━━━</span>   3000    0          0.93       3          False    16.11     0.10       1568.66    0:00:01   0:00:00   \n                                                                                    draws/s                        \n  <span style=\"color: #1f77b4; text-decoration-color: #1f77b4\">━━━━━━━━</span>   3000    0          0.88       1          False    22.00     0.00       796.33     0:00:03   0:00:00   \n                                                                                    draws/s                        \n                                                                                                                   \n</pre>\n"
                },
                "metadata": {}
              }
            ]
          }
        },
        "3fca6e75344543c0b385f336e6cd99ee": {
          "model_module": "@jupyter-widgets/base",
          "model_name": "LayoutModel",
          "model_module_version": "1.2.0",
          "state": {
            "_model_module": "@jupyter-widgets/base",
            "_model_module_version": "1.2.0",
            "_model_name": "LayoutModel",
            "_view_count": null,
            "_view_module": "@jupyter-widgets/base",
            "_view_module_version": "1.2.0",
            "_view_name": "LayoutView",
            "align_content": null,
            "align_items": null,
            "align_self": null,
            "border": null,
            "bottom": null,
            "display": null,
            "flex": null,
            "flex_flow": null,
            "grid_area": null,
            "grid_auto_columns": null,
            "grid_auto_flow": null,
            "grid_auto_rows": null,
            "grid_column": null,
            "grid_gap": null,
            "grid_row": null,
            "grid_template_areas": null,
            "grid_template_columns": null,
            "grid_template_rows": null,
            "height": null,
            "justify_content": null,
            "justify_items": null,
            "left": null,
            "margin": null,
            "max_height": null,
            "max_width": null,
            "min_height": null,
            "min_width": null,
            "object_fit": null,
            "object_position": null,
            "order": null,
            "overflow": null,
            "overflow_x": null,
            "overflow_y": null,
            "padding": null,
            "right": null,
            "top": null,
            "visibility": null,
            "width": null
          }
        },
        "b79a0f77f07d4b9c91a319759bafe7d1": {
          "model_module": "@jupyter-widgets/output",
          "model_name": "OutputModel",
          "model_module_version": "1.0.0",
          "state": {
            "_dom_classes": [],
            "_model_module": "@jupyter-widgets/output",
            "_model_module_version": "1.0.0",
            "_model_name": "OutputModel",
            "_view_count": null,
            "_view_module": "@jupyter-widgets/output",
            "_view_module_version": "1.0.0",
            "_view_name": "OutputView",
            "layout": "IPY_MODEL_6466fda776ef4138a89b69cfe96d1b30",
            "msg_id": "",
            "outputs": [
              {
                "output_type": "display_data",
                "data": {
                  "text/plain": "                                                                                                                   \n \u001b[1m          \u001b[0m \u001b[1m       \u001b[0m \u001b[1m          \u001b[0m \u001b[1m \u001b[0m\u001b[1mStep    \u001b[0m\u001b[1m \u001b[0m \u001b[1m \u001b[0m\u001b[1mGrad    \u001b[0m\u001b[1m \u001b[0m \u001b[1m        \u001b[0m \u001b[1m         \u001b[0m \u001b[1m \u001b[0m\u001b[1mAccept  \u001b[0m\u001b[1m \u001b[0m \u001b[1m \u001b[0m\u001b[1mSampling\u001b[0m\u001b[1m \u001b[0m \u001b[1m         \u001b[0m \u001b[1m          \u001b[0m \n \u001b[1m \u001b[0m\u001b[1mProgress\u001b[0m\u001b[1m \u001b[0m \u001b[1m \u001b[0m\u001b[1mDraws\u001b[0m\u001b[1m \u001b[0m \u001b[1m \u001b[0m\u001b[1mDiverge…\u001b[0m\u001b[1m \u001b[0m \u001b[1m \u001b[0m\u001b[1msize    \u001b[0m\u001b[1m \u001b[0m \u001b[1m \u001b[0m\u001b[1mevals   \u001b[0m\u001b[1m \u001b[0m \u001b[1m \u001b[0m\u001b[1mTuning\u001b[0m\u001b[1m \u001b[0m \u001b[1m \u001b[0m\u001b[1mScaling\u001b[0m\u001b[1m \u001b[0m \u001b[1m \u001b[0m\u001b[1mRate    \u001b[0m\u001b[1m \u001b[0m \u001b[1m \u001b[0m\u001b[1mSpeed   \u001b[0m\u001b[1m \u001b[0m \u001b[1m \u001b[0m\u001b[1mElapsed\u001b[0m\u001b[1m \u001b[0m \u001b[1m \u001b[0m\u001b[1mRemaini…\u001b[0m\u001b[1m \u001b[0m \n ───────────────────────────────────────────────────────────────────────────────────────────────────────────────── \n  \u001b[38;2;31;119;180m━━━━━━━━\u001b[0m   3000    0          1.04       3          False    12.10     0.00       1212.95    0:00:02   0:00:00   \n                                                                                    draws/s                        \n  \u001b[38;2;31;119;180m━━━━━━━━\u001b[0m   3000    0          0.92       3          False    10.00     1.37       667.66     0:00:04   0:00:00   \n                                                                                    draws/s                        \n                                                                                                                   \n",
                  "text/html": "<pre style=\"white-space:pre;overflow-x:auto;line-height:normal;font-family:Menlo,'DejaVu Sans Mono',consolas,'Courier New',monospace\">                                                                                                                   \n <span style=\"font-weight: bold\">          </span> <span style=\"font-weight: bold\">       </span> <span style=\"font-weight: bold\">          </span> <span style=\"font-weight: bold\"> Step     </span> <span style=\"font-weight: bold\"> Grad     </span> <span style=\"font-weight: bold\">        </span> <span style=\"font-weight: bold\">         </span> <span style=\"font-weight: bold\"> Accept   </span> <span style=\"font-weight: bold\"> Sampling </span> <span style=\"font-weight: bold\">         </span> <span style=\"font-weight: bold\">          </span> \n <span style=\"font-weight: bold\"> Progress </span> <span style=\"font-weight: bold\"> Draws </span> <span style=\"font-weight: bold\"> Diverge… </span> <span style=\"font-weight: bold\"> size     </span> <span style=\"font-weight: bold\"> evals    </span> <span style=\"font-weight: bold\"> Tuning </span> <span style=\"font-weight: bold\"> Scaling </span> <span style=\"font-weight: bold\"> Rate     </span> <span style=\"font-weight: bold\"> Speed    </span> <span style=\"font-weight: bold\"> Elapsed </span> <span style=\"font-weight: bold\"> Remaini… </span> \n ───────────────────────────────────────────────────────────────────────────────────────────────────────────────── \n  <span style=\"color: #1f77b4; text-decoration-color: #1f77b4\">━━━━━━━━</span>   3000    0          1.04       3          False    12.10     0.00       1212.95    0:00:02   0:00:00   \n                                                                                    draws/s                        \n  <span style=\"color: #1f77b4; text-decoration-color: #1f77b4\">━━━━━━━━</span>   3000    0          0.92       3          False    10.00     1.37       667.66     0:00:04   0:00:00   \n                                                                                    draws/s                        \n                                                                                                                   \n</pre>\n"
                },
                "metadata": {}
              }
            ]
          }
        },
        "6466fda776ef4138a89b69cfe96d1b30": {
          "model_module": "@jupyter-widgets/base",
          "model_name": "LayoutModel",
          "model_module_version": "1.2.0",
          "state": {
            "_model_module": "@jupyter-widgets/base",
            "_model_module_version": "1.2.0",
            "_model_name": "LayoutModel",
            "_view_count": null,
            "_view_module": "@jupyter-widgets/base",
            "_view_module_version": "1.2.0",
            "_view_name": "LayoutView",
            "align_content": null,
            "align_items": null,
            "align_self": null,
            "border": null,
            "bottom": null,
            "display": null,
            "flex": null,
            "flex_flow": null,
            "grid_area": null,
            "grid_auto_columns": null,
            "grid_auto_flow": null,
            "grid_auto_rows": null,
            "grid_column": null,
            "grid_gap": null,
            "grid_row": null,
            "grid_template_areas": null,
            "grid_template_columns": null,
            "grid_template_rows": null,
            "height": null,
            "justify_content": null,
            "justify_items": null,
            "left": null,
            "margin": null,
            "max_height": null,
            "max_width": null,
            "min_height": null,
            "min_width": null,
            "object_fit": null,
            "object_position": null,
            "order": null,
            "overflow": null,
            "overflow_x": null,
            "overflow_y": null,
            "padding": null,
            "right": null,
            "top": null,
            "visibility": null,
            "width": null
          }
        }
      }
    }
  },
  "nbformat": 4,
  "nbformat_minor": 5
}
