{
  "cells": [
    {
      "cell_type": "markdown",
      "id": "cb3c5851",
      "metadata": {
        "id": "cb3c5851"
      },
      "source": [
        "# PyMC and Universal Samplers"
      ]
    },
    {
      "cell_type": "markdown",
      "id": "b44c33c2",
      "metadata": {
        "id": "b44c33c2"
      },
      "source": [
        "## Part A: `import pymc`"
      ]
    },
    {
      "cell_type": "code",
      "execution_count": 2,
      "id": "119069bd",
      "metadata": {
        "id": "119069bd"
      },
      "outputs": [],
      "source": [
        "import pymc"
      ]
    },
    {
      "cell_type": "markdown",
      "id": "7cb3f267",
      "metadata": {
        "id": "7cb3f267"
      },
      "source": [
        "- [Introductory Overview of PyMC](https://www.pymc.io/projects/docs/en/latest/learn/core_notebooks/pymc_overview.html)\n",
        "- [Example Gallary](https://www.pymc.io/projects/examples/en/latest/gallery.html)"
      ]
    },
    {
      "cell_type": "code",
      "execution_count": 3,
      "id": "99eb4b23",
      "metadata": {
        "colab": {
          "base_uri": "https://localhost:8080/"
        },
        "id": "99eb4b23",
        "outputId": "fb82bac0-e8b4-435d-97db-23b9c2aff300"
      },
      "outputs": [
        {
          "output_type": "stream",
          "name": "stdout",
          "text": [
            "Running on PyMC v5.20.0\n"
          ]
        }
      ],
      "source": [
        "print(f\"Running on PyMC v{pymc.__version__}\")"
      ]
    },
    {
      "cell_type": "code",
      "execution_count": 4,
      "id": "8ba0a792",
      "metadata": {
        "id": "8ba0a792"
      },
      "outputs": [],
      "source": [
        "from scipy import stats\n",
        "import matplotlib.pyplot as plt\n",
        "import numpy as np"
      ]
    },
    {
      "cell_type": "code",
      "execution_count": null,
      "id": "b0383bb6",
      "metadata": {
        "id": "b0383bb6"
      },
      "outputs": [],
      "source": [
        "n = 100\n",
        "true_theta, true_tau = 0,1\n",
        "data_generating_mechanism = \\\n",
        "stats.norm(loc=true_theta, scale=true_tau**(-0.5))\n",
        "\n",
        "x = data_generating_mechanism.rvs(size=n)\n",
        "plt.hist(x, density=True)\n",
        "x_grid = np.linspace(-5*true_tau**(-0.5),5*true_tau**(-0.5),1000)\n",
        "plt.plot(x_grid,data_generating_mechanism.pdf(x_grid));\n"
      ]
    },
    {
      "cell_type": "code",
      "execution_count": null,
      "id": "b4c46236",
      "metadata": {
        "id": "b4c46236"
      },
      "outputs": [],
      "source": [
        "conjugate_normal_gamma = pymc.Model()\n",
        "\n",
        "with conjugate_normal_gamma:\n",
        "\n",
        "    # Priors for unknown model parameters\n",
        "\n",
        "    theta0 = 0  # prior belief regarding true_theta\n",
        "    theta_prior_n = 1  # strength of prior belief as units of data\n",
        "    # theta_prior_n = tau0/true_tau\n",
        "    tau0 = theta_prior_n*true_tau\n",
        "    theta = pymc.Normal(\"theta\", mu=theta0, sigma=tau0**(-0.5))\n",
        "    # Compared to scipy.stats\n",
        "    # loc -> mu\n",
        "    # scale -> sigma but you can also use tau as below...\n",
        "\n",
        "    tau_SS_prior = 1  # prior belief regarding true_sum_of_squares\n",
        "    tau_prior_n = 1  # strength of prior belief as units of data\n",
        "    tau = pymc.Gamma(\"tau\", alpha=tau_prior_n/2,\n",
        "                            beta=tau_SS_prior/2)\n",
        "    # https://en.wikipedia.org/wiki/Gamma_distribution\n",
        "    # pymc.Gamma?\n",
        "    # Now it's **rate** (beta) NOT scale\n",
        "\n",
        "    # Likelihood (sampling distribution) of observations\n",
        "    x_obs = pymc.Normal(\"x_obs\", mu=theta, tau=tau, observed=x)"
      ]
    },
    {
      "cell_type": "code",
      "execution_count": null,
      "id": "5370d9c5",
      "metadata": {
        "id": "5370d9c5"
      },
      "outputs": [],
      "source": [
        "pymc.model_to_graphviz(conjugate_normal_gamma)"
      ]
    },
    {
      "cell_type": "code",
      "execution_count": null,
      "id": "45dcd8e1",
      "metadata": {
        "id": "45dcd8e1"
      },
      "outputs": [],
      "source": [
        "m = 10000\n",
        "with conjugate_normal_gamma:\n",
        "    # draw m posterior samples\n",
        "    idata = pymc.sample(draws=m, chains=2, tune=100)\n",
        "    # arviz.InferenceData object"
      ]
    },
    {
      "cell_type": "markdown",
      "id": "ae84454f",
      "metadata": {
        "id": "ae84454f"
      },
      "source": [
        "## `idata` and `arviz as az`"
      ]
    },
    {
      "cell_type": "code",
      "execution_count": null,
      "id": "f297417f",
      "metadata": {
        "id": "f297417f"
      },
      "outputs": [],
      "source": [
        "idata"
      ]
    },
    {
      "cell_type": "code",
      "execution_count": null,
      "id": "03b1c94a",
      "metadata": {
        "id": "03b1c94a"
      },
      "outputs": [],
      "source": [
        "idata.posterior"
      ]
    },
    {
      "cell_type": "code",
      "execution_count": null,
      "id": "0c2e4e03",
      "metadata": {
        "id": "0c2e4e03"
      },
      "outputs": [],
      "source": [
        "idata.posterior['theta']"
      ]
    },
    {
      "cell_type": "code",
      "execution_count": null,
      "id": "3bb21172",
      "metadata": {
        "id": "3bb21172"
      },
      "outputs": [],
      "source": [
        "idata.posterior['tau']"
      ]
    },
    {
      "cell_type": "code",
      "execution_count": null,
      "id": "faf3f130",
      "metadata": {
        "id": "faf3f130"
      },
      "outputs": [],
      "source": [
        "theta = idata.posterior['theta'].values#.shape\n",
        "tau = idata.posterior['tau'].values#.shape\n",
        "\n",
        "fig,ax = plt.subplots(1, 4, figsize=(14,3));ax[0].set_title(\"$\\\\theta$ Burn-In\"); ax[1].set_title(\"$\\\\tau$ Burn-In\"); ax[2].set_title(\"$\\\\theta$ Converged Markov Chain\\nStationary Distribution Samples\"); ax[3].set_title(\"$\\\\tau$ Converged Markov Chain\\nStationary Distribution Samples\")\n",
        "\n",
        "# pymc.sample(draws=1000, chains=2, tune=100)\n",
        "# used 100 samples per chain to \"tune\" and these were\n",
        "# automatically discarded so `burn` is likely not needed\n",
        "burn = 20\n",
        "demo = 120\n",
        "C = 2\n",
        "for c in range(C):\n",
        "    ax[0].plot(theta[c,:burn], label=\"$\\\\theta$ Chain \"+str(c))\n",
        "    ax[1].plot(tau[c,:burn], label=\"$\\\\tau$ Chain \"+str(c))\n",
        "    ax[2].plot(np.arange(burn, demo, dtype=int), theta[c,burn:demo], label=\"$\\\\theta$ Chain \"+str(c))\n",
        "    ax[3].plot(np.arange(burn, demo, dtype=int), tau[c,burn:demo], label=\"$\\\\tau$ Chain \"+str(c))\n",
        "ax[0].legend(); ax[1].legend(); ax[2].legend(); ax[3].legend();"
      ]
    },
    {
      "cell_type": "code",
      "execution_count": null,
      "id": "62b0c0a9",
      "metadata": {
        "id": "62b0c0a9"
      },
      "outputs": [],
      "source": [
        "fig,ax = plt.subplots(1, 3, figsize=(16,4))\n",
        "ax[0].set_title(\"Marginal distribution of $\\\\theta$ (without burn-in)\\nof (joint posterior) stationary distribution\")\n",
        "ax[1].set_title(\"Marginal distribution of $\\\\tau$ (without burn-in)\\nof (joint posterior) stationary distribution\")\n",
        "ax[2].set_title(\"Joint (posterior) stationary distribution\\n(without burn-in)\")\n",
        "\n",
        "ax[0].hist(theta[0,burn:])\n",
        "ax[1].hist(tau[0,burn:])\n",
        "ax[2].plot(theta[0,burn:], tau[0,burn:], '.', alpha=0.1);\n",
        "demo = 3*burn\n",
        "ax[2].plot(theta[0,burn:demo], tau[0,burn:demo]);"
      ]
    },
    {
      "cell_type": "code",
      "execution_count": null,
      "id": "88f98c72",
      "metadata": {
        "id": "88f98c72"
      },
      "outputs": [],
      "source": [
        "import arviz as az"
      ]
    },
    {
      "cell_type": "code",
      "execution_count": null,
      "id": "9342060e",
      "metadata": {
        "id": "9342060e"
      },
      "outputs": [],
      "source": [
        "idata"
      ]
    },
    {
      "cell_type": "code",
      "execution_count": null,
      "id": "c884c49a",
      "metadata": {
        "id": "c884c49a"
      },
      "outputs": [],
      "source": [
        "az.plot_trace(idata, combined=True);"
      ]
    },
    {
      "cell_type": "code",
      "execution_count": null,
      "id": "655b9eb8",
      "metadata": {
        "id": "655b9eb8"
      },
      "outputs": [],
      "source": [
        "az.plot_trace(idata)\n",
        "plt.tight_layout()"
      ]
    },
    {
      "cell_type": "code",
      "execution_count": null,
      "id": "6092a7cc",
      "metadata": {
        "id": "6092a7cc"
      },
      "outputs": [],
      "source": [
        "m = 1000\n",
        "with conjugate_normal_gamma:\n",
        "    # draw m posterior samples\n",
        "    idata = pymc.sample(draws=m, chains=2, tune=100)\n",
        "    # arviz.InferenceData object\n",
        "\n",
        "theta = idata.posterior['theta'].values#.shape\n",
        "tau = idata.posterior['tau'].values#.shape"
      ]
    },
    {
      "cell_type": "code",
      "execution_count": null,
      "id": "1052910a",
      "metadata": {
        "id": "1052910a"
      },
      "outputs": [],
      "source": [
        "# If the messages below don't show\n",
        "\"\"\"Auto-assigning NUTS sampler...\n",
        "   Initializing NUTS using jitter+adapt_diag...\n",
        "   Multiprocess sampling (2 chains in 4 jobs)\n",
        "   NUTS: [theta, tau] \"\"\"\n",
        "# You can see this information by turning on logging\n",
        "import logging # dir(logging) for available functionality\n",
        "_log = logging.getLogger(\"pymc\")\n",
        "#_log.setLevel(logging.NOTSET) # 0\n",
        "_log.setLevel(logging.INFO) # 20\n",
        "#_log.setLevel(logging.WARNING) # 30\n",
        "#_log.setLevel(logging.ERROR) # 40"
      ]
    },
    {
      "cell_type": "code",
      "execution_count": null,
      "id": "8d6c0d09",
      "metadata": {
        "id": "8d6c0d09"
      },
      "outputs": [],
      "source": [
        "az.plot_forest(idata, var_names=[\"theta\", \"tau\"],\n",
        "               combined=False, hdi_prob=0.95, r_hat=True);\n"
      ]
    },
    {
      "cell_type": "markdown",
      "id": "eac953bc",
      "metadata": {
        "id": "eac953bc"
      },
      "source": [
        "## Part B: Posterior inference and diagnostics<br><sub>with `az.summary`</sub>"
      ]
    },
    {
      "cell_type": "code",
      "execution_count": null,
      "id": "c72989d4",
      "metadata": {
        "id": "c72989d4"
      },
      "outputs": [],
      "source": [
        "az.summary(idata, round_to=5)#2)"
      ]
    },
    {
      "cell_type": "code",
      "execution_count": null,
      "id": "10895b85",
      "metadata": {
        "id": "10895b85"
      },
      "outputs": [],
      "source": [
        "theta.ravel().shape"
      ]
    },
    {
      "cell_type": "markdown",
      "id": "b7766cf2",
      "metadata": {
        "id": "b7766cf2"
      },
      "source": [
        "### `mean` and `sd`"
      ]
    },
    {
      "cell_type": "code",
      "execution_count": null,
      "id": "c4065274",
      "metadata": {
        "id": "c4065274"
      },
      "outputs": [],
      "source": [
        "round_to=5\n",
        "theta.ravel().mean().round(round_to), tau.ravel().mean().round(round_to)"
      ]
    },
    {
      "cell_type": "code",
      "execution_count": null,
      "id": "d48f42a9",
      "metadata": {
        "id": "d48f42a9"
      },
      "outputs": [],
      "source": [
        "theta.ravel().std().round(round_to), tau.ravel().std().round(round_to)\n",
        "theta.ravel().std(ddof=1).round(round_to), tau.ravel().std(ddof=1).round(round_to)"
      ]
    },
    {
      "cell_type": "markdown",
      "id": "1b21887c",
      "metadata": {
        "id": "1b21887c"
      },
      "source": [
        "### `hdi_3%` and `hdi_97%`"
      ]
    },
    {
      "cell_type": "code",
      "execution_count": null,
      "id": "6eeef889",
      "metadata": {
        "id": "6eeef889"
      },
      "outputs": [],
      "source": [
        "az.summary(idata, round_to=5)#2)"
      ]
    },
    {
      "cell_type": "code",
      "execution_count": null,
      "id": "549fa647",
      "metadata": {
        "id": "549fa647"
      },
      "outputs": [],
      "source": [
        "np.quantile(theta,[0.05,0.95]).round(round_to)"
      ]
    },
    {
      "cell_type": "code",
      "execution_count": null,
      "id": "76d8d4c5",
      "metadata": {
        "id": "76d8d4c5"
      },
      "outputs": [],
      "source": [
        "np.quantile(theta,[0.025,0.975]).round(round_to)"
      ]
    },
    {
      "cell_type": "code",
      "execution_count": null,
      "id": "8969a06c",
      "metadata": {
        "id": "8969a06c"
      },
      "outputs": [],
      "source": [
        "np.quantile(theta,[0.03,0.97]).round(round_to)"
      ]
    },
    {
      "cell_type": "code",
      "execution_count": null,
      "id": "3b3a0dc7",
      "metadata": {
        "id": "3b3a0dc7"
      },
      "outputs": [],
      "source": [
        "# hdi_3% and hdi_97% is something like\n",
        "# move interval up or down until the smallest interval is found\n",
        "np.quantile(theta,[0.02,0.96]).round(round_to)"
      ]
    },
    {
      "cell_type": "code",
      "execution_count": null,
      "id": "8d498c87",
      "metadata": {
        "id": "8d498c87"
      },
      "outputs": [],
      "source": [
        "# so trying to get a bit closer for tau it's someting like\n",
        "np.quantile(tau,[0.022,0.9622]).round(round_to)"
      ]
    },
    {
      "cell_type": "markdown",
      "id": "a80be109",
      "metadata": {
        "id": "a80be109"
      },
      "source": [
        "### To consider `mcse_mean` and `mcse_sd`...\n",
        "\n",
        "- [...moments of moments and first order Taylor series approximation](https://mc-stan.org/posterior/reference/mcse_sd.html)"
      ]
    },
    {
      "cell_type": "code",
      "execution_count": null,
      "id": "dae25b97",
      "metadata": {
        "id": "dae25b97"
      },
      "outputs": [],
      "source": [
        "az.summary(idata, round_to=5)"
      ]
    },
    {
      "cell_type": "code",
      "execution_count": null,
      "id": "98cd3c52",
      "metadata": {
        "id": "98cd3c52"
      },
      "outputs": [],
      "source": [
        "az.summary(idata, round_to=5)['sd']['theta']/\\\n",
        "az.summary(idata, round_to=5)['ess_bulk']['theta']**0.5"
      ]
    },
    {
      "cell_type": "code",
      "execution_count": null,
      "id": "525402ec",
      "metadata": {
        "id": "525402ec"
      },
      "outputs": [],
      "source": [
        "az.summary(idata, round_to=5)['sd']['tau']/\\\n",
        "(az.summary(idata, round_to=5)['ess_bulk']['tau']+0)**0.5"
      ]
    },
    {
      "cell_type": "code",
      "execution_count": null,
      "id": "69c8d3f3",
      "metadata": {
        "id": "69c8d3f3"
      },
      "outputs": [],
      "source": [
        "((theta.ravel()-theta.ravel().mean())**2).var()/\\\n",
        "az.summary(idata, round_to=5)['ess_bulk']['theta']\n"
      ]
    },
    {
      "cell_type": "code",
      "execution_count": null,
      "id": "fac240b6",
      "metadata": {
        "id": "fac240b6"
      },
      "outputs": [],
      "source": [
        "# this estimates y which is the variance\n",
        "((theta.ravel()-theta.ravel().mean())**2).mean()\n",
        "theta.ravel().var()\n",
        "# square root of this estimates standard deviation\n",
        "# s = sqrt(y)\n",
        "\n",
        "# this estimates variance of y above estimator\n",
        "((theta.ravel()-theta.ravel().mean())**2).var()/\\\n",
        "az.summary(idata, round_to=5)['ess_bulk']['theta']\n",
        "\n",
        "# by the delta method\n",
        "# https://stats.stackexchange.com/questions/491845/how-is-delta-method-used-here-in-approximating-the-square-root-of-a-normal-rando\n",
        "# var(S) = (1/sqrt(E[Y]))**2 * Var(Y)\n",
        "\n",
        "((1/theta.ravel().var())*\\\n",
        " ((theta.ravel()-theta.ravel().mean())**2).var()/\\\n",
        " az.summary(idata, round_to=15)['ess_bulk']['theta'])**0.5\n",
        "\n",
        "# So it's not quite right...but then again it's maybe not exactly\n",
        "# https://mc-stan.org/posterior/reference/mcse_sd.html\n",
        "# \"Compute the Monte Carlo standard error for the\n",
        "#  standard deviation (SD) of a single variable\n",
        "#  without assuming normality using moments of moments\n",
        "#  and first order Taylor series approximation\n",
        "#  (Kenney and Keeping, 1951, p. 141).\""
      ]
    },
    {
      "cell_type": "code",
      "execution_count": null,
      "id": "9b83ecf5",
      "metadata": {
        "id": "9b83ecf5"
      },
      "outputs": [],
      "source": [
        "((1/tau.ravel().var())*\\\n",
        " ((tau.ravel()-tau.ravel().mean())**2).var()/\\\n",
        " az.summary(idata, round_to=15)['ess_bulk']['tau'])**0.5"
      ]
    },
    {
      "cell_type": "code",
      "execution_count": null,
      "id": "768d3418",
      "metadata": {
        "id": "768d3418"
      },
      "outputs": [],
      "source": [
        "az.summary(idata, round_to=5)"
      ]
    },
    {
      "cell_type": "markdown",
      "id": "c7bb7fd9",
      "metadata": {
        "id": "c7bb7fd9"
      },
      "source": [
        "### We must first consider `bulk_tail` and `ess_tail`...\n",
        "\n",
        "- [bulk_tail](https://mc-stan.org/posterior/reference/ess_bulk.html)\n",
        "- [ess_tail](https://mc-stan.org/posterior/reference/ess_tail.html)\n",
        "\n",
        "#### Effective sample size\n",
        "\n",
        "$$n_{\\text{eff}} = \\frac{m}{\\sum_{k=-\\infty}^\\infty\\rho_k} = \\frac{m}{1+2\\sum_{k=1}^\\infty\\rho_k} \\quad \\text{ for order $k$ autocorrelations } \\quad \\rho_k $$\n"
      ]
    },
    {
      "cell_type": "code",
      "execution_count": null,
      "id": "2bd44cb3",
      "metadata": {
        "id": "2bd44cb3"
      },
      "outputs": [],
      "source": [
        "theta_in_tail = \\\n",
        "(theta<=np.quantile(theta.ravel(),0.05))#+\\\n",
        "(theta>=np.quantile(theta.ravel(),0.95))\n",
        "print(theta_in_tail.sum()/(2*m))\n",
        "theta_in_tail"
      ]
    },
    {
      "cell_type": "code",
      "execution_count": null,
      "id": "d5bcb63d",
      "metadata": {
        "id": "d5bcb63d"
      },
      "outputs": [],
      "source": [
        "m = 1000\n",
        "K = 30\n",
        "autocorrelations = np.ones((2,int(m/2)))\n",
        "for c in range(C):\n",
        "    for t_plus_k in range(1, int(m/2)):\n",
        "        autocorrelations[c,t_plus_k] = \\\n",
        "        np.corrcoef(theta_in_tail[c,:-t_plus_k],\n",
        "                    theta_in_tail[c,t_plus_k:])[0,1]\n",
        "\n",
        "for c in range(C):\n",
        "    plt.plot(autocorrelations[c,:K], label=\"Chain \"+str(c))\n",
        "\n",
        "# effective sample size\n",
        "approximation_stops=[5,4]\n",
        "approximation_stops,\n",
        "m / (1 + 2*autocorrelations[0,1:approximation_stops[0]].sum())+\\\n",
        "m / (1 + 2*autocorrelations[1,1:approximation_stops[1]].sum())\n"
      ]
    },
    {
      "cell_type": "code",
      "execution_count": null,
      "id": "6a10dd5f",
      "metadata": {
        "id": "6a10dd5f"
      },
      "outputs": [],
      "source": [
        "autocorrelations[:,:10]"
      ]
    },
    {
      "cell_type": "code",
      "execution_count": null,
      "id": "374b0c6d",
      "metadata": {
        "id": "374b0c6d"
      },
      "outputs": [],
      "source": [
        "tau_in_tail = \\\n",
        "(tau<=np.quantile(tau.ravel(),0.05))+\\\n",
        "(tau>=np.quantile(tau.ravel(),0.95))\n",
        "print(tau_in_tail.sum()/(2*m))\n",
        "tau_in_tail"
      ]
    },
    {
      "cell_type": "code",
      "execution_count": null,
      "id": "1b2fc711",
      "metadata": {
        "id": "1b2fc711"
      },
      "outputs": [],
      "source": [
        "m = 1000\n",
        "K = 30\n",
        "autocorrelations = np.ones((2,m-1))\n",
        "for c in range(C):\n",
        "    for t_plus_k in range(1, int(m/2)):\n",
        "        autocorrelations[c,t_plus_k] = \\\n",
        "        np.corrcoef(tau_in_tail[c,:-t_plus_k],\n",
        "                    tau_in_tail[c,t_plus_k:])[0,1]\n",
        "\n",
        "for c in range(C):\n",
        "    plt.plot(autocorrelations[c,:K], label=\"Chain \"+str(c))\n",
        "\n",
        "# effective sample size\n",
        "approximation_stops=[8,6]\n",
        "approximation_stops,\n",
        "m / (1 + 2*autocorrelations[0,1:approximation_stops[0]].sum())+\\\n",
        "m / (1 + 2*autocorrelations[1,1:approximation_stops[1]].sum())"
      ]
    },
    {
      "cell_type": "code",
      "execution_count": null,
      "id": "2ea74649",
      "metadata": {
        "id": "2ea74649"
      },
      "outputs": [],
      "source": [
        "autocorrelations[:,:20]"
      ]
    },
    {
      "cell_type": "code",
      "execution_count": null,
      "id": "fbb48e9a",
      "metadata": {
        "id": "fbb48e9a"
      },
      "outputs": [],
      "source": [
        "az.summary(idata, round_to=5)"
      ]
    },
    {
      "cell_type": "markdown",
      "id": "cc7fbe71",
      "metadata": {
        "id": "cc7fbe71"
      },
      "source": [
        "#### Reminder\n",
        "\n",
        "- [bulk_tail](https://mc-stan.org/posterior/reference/ess_bulk.html)\n",
        "- [ess_tail](https://mc-stan.org/posterior/reference/ess_tail.html)\n",
        "\n",
        "#### Effective sample size\n",
        "\n",
        "$$n_{\\text{eff}} = \\frac{m}{\\sum_{k=-\\infty}^\\infty\\rho_k} = \\frac{m}{1+2\\sum_{k=1}^\\infty\\rho_k} \\quad \\text{ for order $k$ autocorrelations } \\quad \\rho_k $$\n"
      ]
    },
    {
      "cell_type": "code",
      "execution_count": null,
      "id": "33be7370",
      "metadata": {
        "id": "33be7370"
      },
      "outputs": [],
      "source": [
        "m = 1000\n",
        "K = 30\n",
        "autocorrelations = np.ones((2,int(m/2)))\n",
        "for c in range(C):\n",
        "    for t_plus_k in range(1, int(m/2)):\n",
        "        autocorrelations[c,t_plus_k] = \\\n",
        "        np.corrcoef(theta[c,:-t_plus_k],\n",
        "                    theta[c,t_plus_k:])[0,1]\n",
        "\n",
        "for c in range(C):\n",
        "    plt.plot(autocorrelations[c,:K], label=\"Chain \"+str(c))\n",
        "\n",
        "# effective sample size\n",
        "approximation_stops=[3,4]\n",
        "approximation_stops,\n",
        "m / (1 + 2*autocorrelations[0,1:approximation_stops[0]].sum())+\\\n",
        "m / (1 + 2*autocorrelations[1,1:approximation_stops[1]].sum())\n"
      ]
    },
    {
      "cell_type": "code",
      "execution_count": null,
      "id": "8bfba2c5",
      "metadata": {
        "id": "8bfba2c5"
      },
      "outputs": [],
      "source": [
        "autocorrelations[:,:10]"
      ]
    },
    {
      "cell_type": "code",
      "execution_count": null,
      "id": "dcd7a1be",
      "metadata": {
        "id": "dcd7a1be"
      },
      "outputs": [],
      "source": [
        "m = 1000\n",
        "K = 30\n",
        "autocorrelations = np.ones((2,int(m/2)))\n",
        "for c in range(C):\n",
        "    for t_plus_k in range(1, int(m/2)):\n",
        "        autocorrelations[c,t_plus_k] = \\\n",
        "        np.corrcoef(tau[c,:-t_plus_k],\n",
        "                    tau[c,t_plus_k:])[0,1]\n",
        "\n",
        "for c in range(C):\n",
        "    plt.plot(autocorrelations[c,:K], label=\"Chain \"+str(c))\n",
        "\n",
        "# effective sample size\n",
        "approximation_stops=[5,7]\n",
        "approximation_stops,\n",
        "m / (1 + 2*autocorrelations[0,1:approximation_stops[0]].sum())+\\\n",
        "m / (1 + 2*autocorrelations[1,1:approximation_stops[1]].sum())\n"
      ]
    },
    {
      "cell_type": "code",
      "execution_count": null,
      "id": "960f2b49",
      "metadata": {
        "id": "960f2b49"
      },
      "outputs": [],
      "source": [
        "autocorrelations[:,:10]"
      ]
    },
    {
      "cell_type": "code",
      "execution_count": null,
      "id": "e6808dba",
      "metadata": {
        "id": "e6808dba"
      },
      "outputs": [],
      "source": [
        "az.summary(idata, round_to=5)"
      ]
    },
    {
      "cell_type": "code",
      "execution_count": null,
      "id": "8bd50ce7",
      "metadata": {
        "id": "8bd50ce7"
      },
      "outputs": [],
      "source": [
        "fig,ax = plt.subplots(1,2,figsize=(10,4))\n",
        "ax[0].plot(theta.ravel()[:-1], theta.ravel()[1:], '.', alpha=0.25)\n",
        "ax[1].plot(tau.ravel()[:-1], tau.ravel()[1:], '.', alpha=0.25);"
      ]
    },
    {
      "cell_type": "markdown",
      "id": "aff2f9ad",
      "metadata": {
        "id": "aff2f9ad"
      },
      "source": [
        "## Part C: R-hat and \"energy\"\n",
        "\n",
        "A lack of insufficient \"mixing\" (agreement) between chains is diagnosed by comparing within and between chain variability. This is done by **checking if the split-$\\hat R$ statistic is greater than** $\\mathbf{1.05}$. is deemed sufficient when . This is suggestive (but not proof) that the the **Markov chains** have converged to their **stationary distributions**.\n",
        "\n",
        "> Thus far above we have avoided the notion of \"split\" chains. Split chains must be considered to ensure that a \"drifting chain\" does not accidentally pass the $\\hat R$ check. Thus the split-$\\hat R$ statistic.\n",
        "\n",
        "\n",
        "$\\Large \\text{Split-}\\hat R  = \\sqrt{\\frac{\\frac{N-1}{N}W +  \\overbrace{\\frac{1}{M-1}\\sum_{m=1}^M (\\overline{\\theta^{(m,\\cdot)}} - \\overline{\\theta^{(\\cdot,\\cdot)}})^2}^{\\text{between chain variance}} }{\\underbrace{\\frac{1}{M}\\sum_{m=1}^M \\frac{1}{N-1}\\sum_{n=1}^N (\\theta^{(m,n)} - \\overline{\\theta^{(m,\\cdot)}})^2}_{\\text{$W$: within chain variance}}} } $"
      ]
    },
    {
      "cell_type": "code",
      "execution_count": null,
      "id": "727c8884",
      "metadata": {
        "id": "727c8884"
      },
      "outputs": [],
      "source": [
        "az.summary(idata, round_to=5)"
      ]
    },
    {
      "cell_type": "code",
      "execution_count": null,
      "id": "12c1a5c7",
      "metadata": {
        "id": "12c1a5c7"
      },
      "outputs": [],
      "source": [
        "az.plot_trace(idata)\n",
        "plt.tight_layout()"
      ]
    },
    {
      "cell_type": "markdown",
      "id": "253a2716",
      "metadata": {
        "id": "253a2716"
      },
      "source": [
        "### Energy\n",
        "\n",
        "Another diagnostic that sometimes applies is based on the so-called [energy](https://discourse.mc-stan.org/t/help-understanding-bfmi-interpreting-bfmi-1/28554). The exact meaning of \"energy\" will be discussed next class but for now suffice it to say that when the \"Energy transition\" fails to dominate the \"Marginal energy\" the sampler is experiencing a computational bottleneck.\n"
      ]
    },
    {
      "cell_type": "code",
      "execution_count": null,
      "id": "89548968",
      "metadata": {
        "id": "89548968"
      },
      "outputs": [],
      "source": [
        "az.plot_energy(idata);"
      ]
    },
    {
      "cell_type": "markdown",
      "id": "6abb985d",
      "metadata": {
        "id": "6abb985d"
      },
      "source": [
        "## Part D: Samplers\n"
      ]
    },
    {
      "cell_type": "code",
      "execution_count": null,
      "id": "b98a0d24",
      "metadata": {
        "id": "b98a0d24"
      },
      "outputs": [],
      "source": [
        "pymc.sample?"
      ]
    },
    {
      "cell_type": "code",
      "execution_count": null,
      "id": "f98d072b",
      "metadata": {
        "id": "f98d072b"
      },
      "outputs": [],
      "source": [
        "with conjugate_normal_gamma:\n",
        "    HMC = pymc.HamiltonianMC()\n",
        "    idata_HMC = pymc.sample(chains=4, step=HMC)\n",
        "\n",
        "display(az.summary(idata_HMC, round_to=2))\n",
        "az.plot_trace(idata_HMC)\n",
        "plt.tight_layout()"
      ]
    },
    {
      "cell_type": "code",
      "execution_count": null,
      "id": "d3222eaf",
      "metadata": {
        "id": "d3222eaf"
      },
      "outputs": [],
      "source": [
        "# theta rejection rates\n",
        "(idata_HMC.posterior.theta.values[:,:-1]==idata_HMC.posterior.theta.values[:,1:]).mean(axis=1)"
      ]
    },
    {
      "cell_type": "code",
      "execution_count": null,
      "id": "161b821c",
      "metadata": {
        "id": "161b821c"
      },
      "outputs": [],
      "source": [
        "# tau rejection rates\n",
        "(idata_HMC.posterior.tau.values[:,:-1]==idata_HMC.posterior.tau.values[:,1:]).mean(axis=1)"
      ]
    },
    {
      "cell_type": "code",
      "execution_count": null,
      "id": "5920ddd2",
      "metadata": {
        "id": "5920ddd2"
      },
      "outputs": [],
      "source": [
        "fig,ax = plt.subplots(1,2,figsize=(10,4))\n",
        "ax[0].plot(idata_HMC.posterior.theta.values.ravel()[:-1],\n",
        "           idata_HMC.posterior.theta.values.ravel()[1:], '.', alpha=0.25)\n",
        "ax[1].plot(idata_HMC.posterior.tau.values.ravel()[:-1],\n",
        "           idata_HMC.posterior.tau.values.ravel()[1:], '.', alpha=0.25);"
      ]
    },
    {
      "cell_type": "code",
      "execution_count": null,
      "id": "a87933d6",
      "metadata": {
        "id": "a87933d6"
      },
      "outputs": [],
      "source": [
        "with conjugate_normal_gamma:\n",
        "    idata = pymc.sample(chains=4, target_accept=0.9)\n",
        "\n",
        "display(az.summary(idata, round_to=2))\n",
        "az.plot_trace(idata)\n",
        "plt.tight_layout()"
      ]
    },
    {
      "cell_type": "code",
      "execution_count": null,
      "id": "17b6cf85",
      "metadata": {
        "id": "17b6cf85"
      },
      "outputs": [],
      "source": [
        "import pandas as pd\n",
        "display(pd.DataFrame(idata.sample_stats.acceptance_rate))\n",
        "# rejection rates\n",
        "1-idata.sample_stats.acceptance_rate.values.mean(axis=1)"
      ]
    },
    {
      "cell_type": "code",
      "execution_count": null,
      "id": "6d430875",
      "metadata": {
        "id": "6d430875"
      },
      "outputs": [],
      "source": [
        "fig,ax = plt.subplots(1,2,figsize=(10,4))\n",
        "ax[0].plot(idata.posterior.theta.values.ravel()[:-1],\n",
        "           idata.posterior.theta.values.ravel()[1:], '.', alpha=0.25)\n",
        "ax[1].plot(idata.posterior.tau.values.ravel()[:-1],\n",
        "           idata.posterior.tau.values.ravel()[1:], '.', alpha=0.25);"
      ]
    },
    {
      "cell_type": "code",
      "execution_count": null,
      "id": "0f8db5c6",
      "metadata": {
        "id": "0f8db5c6"
      },
      "outputs": [],
      "source": [
        "with conjugate_normal_gamma:\n",
        "    sampler = pymc.Slice()\n",
        "    idata_slice = pymc.sample(step=sampler)\n",
        "\n",
        "display(az.summary(idata_slice, round_to=2))\n",
        "az.plot_trace(idata_slice)\n",
        "plt.tight_layout()"
      ]
    },
    {
      "cell_type": "code",
      "execution_count": null,
      "id": "7ddd6094",
      "metadata": {
        "id": "7ddd6094"
      },
      "outputs": [],
      "source": [
        "# theta rejection rates\n",
        "(idata_slice.posterior.theta.values[:,:-1]==idata_slice.posterior.theta.values[:,1:]).mean(axis=1)"
      ]
    },
    {
      "cell_type": "code",
      "execution_count": null,
      "id": "b2b64e52",
      "metadata": {
        "id": "b2b64e52"
      },
      "outputs": [],
      "source": [
        "# tau rejection rates\n",
        "(idata_slice.posterior.tau.values[:,:-1]==idata_slice.posterior.tau.values[:,1:]).mean(axis=1)"
      ]
    },
    {
      "cell_type": "code",
      "execution_count": null,
      "id": "fe14d3ce",
      "metadata": {
        "id": "fe14d3ce"
      },
      "outputs": [],
      "source": [
        "fig,ax = plt.subplots(1,2,figsize=(10,4))\n",
        "ax[0].plot(idata_slice.posterior.theta.values.ravel()[:-1],\n",
        "           idata_slice.posterior.theta.values.ravel()[1:], '.', alpha=0.25)\n",
        "ax[1].plot(idata_slice.posterior.tau.values.ravel()[:-1],\n",
        "           idata_slice.posterior.tau.values.ravel()[1:], '.', alpha=0.25);"
      ]
    },
    {
      "cell_type": "code",
      "execution_count": null,
      "id": "182a1539",
      "metadata": {
        "id": "182a1539"
      },
      "outputs": [],
      "source": [
        "with conjugate_normal_gamma:\n",
        "    MHv1 = pymc.Metropolis(S=np.ones(1), scaling=1, tune=False)\n",
        "    idata_MHv1 = pymc.sample(draws=1000, tune=0, chains=4, step=MHv1)\n",
        "\n",
        "display(az.summary(idata_MHv1, round_to=2))\n",
        "az.plot_trace(idata_MHv1)\n",
        "plt.tight_layout()"
      ]
    },
    {
      "cell_type": "code",
      "execution_count": null,
      "id": "cbcb246a",
      "metadata": {
        "id": "cbcb246a"
      },
      "outputs": [],
      "source": [
        "# theta rejection rates\n",
        "(idata_MHv1.posterior.theta.values[:,:-1]==idata_MHv1.posterior.theta.values[:,1:]).mean(axis=1)"
      ]
    },
    {
      "cell_type": "code",
      "execution_count": null,
      "id": "3aa353f3",
      "metadata": {
        "id": "3aa353f3"
      },
      "outputs": [],
      "source": [
        "# tau rejection rates\n",
        "(idata_MHv1.posterior.tau.values[:,:-1]==idata_MHv1.posterior.tau.values[:,1:]).mean(axis=1)"
      ]
    },
    {
      "cell_type": "code",
      "execution_count": null,
      "id": "cc37e2eb",
      "metadata": {
        "id": "cc37e2eb"
      },
      "outputs": [],
      "source": [
        "fig,ax = plt.subplots(1,2,figsize=(10,4))\n",
        "ax[0].plot(idata_MHv1.posterior.theta.values.ravel()[:-1],\n",
        "           idata_MHv1.posterior.theta.values.ravel()[1:], '.', alpha=0.25)\n",
        "ax[1].plot(idata_MHv1.posterior.tau.values.ravel()[:-1],\n",
        "           idata_MHv1.posterior.tau.values.ravel()[1:], '.', alpha=0.25);"
      ]
    },
    {
      "cell_type": "code",
      "execution_count": null,
      "id": "d3a89e75",
      "metadata": {
        "id": "d3a89e75"
      },
      "outputs": [],
      "source": [
        "with conjugate_normal_gamma:\n",
        "    MHv2 = pymc.Metropolis(S=np.ones(1), scaling=0.1, tune=False)\n",
        "    idata_MHv2 = pymc.sample(draws=1000, tune=0, chains=4, step=MHv2)\n",
        "\n",
        "display(az.summary(idata_MHv2, round_to=2))\n",
        "az.plot_trace(idata_MHv2)\n",
        "plt.tight_layout()"
      ]
    },
    {
      "cell_type": "code",
      "execution_count": null,
      "id": "626112f1",
      "metadata": {
        "id": "626112f1"
      },
      "outputs": [],
      "source": [
        "# theta rejection rates\n",
        "(idata_MHv2.posterior.theta.values[:,:-1]==idata_MHv2.posterior.theta.values[:,1:]).mean(axis=1)"
      ]
    },
    {
      "cell_type": "code",
      "execution_count": null,
      "id": "176fe6f0",
      "metadata": {
        "id": "176fe6f0"
      },
      "outputs": [],
      "source": [
        "# tau rejection rates\n",
        "(idata_MHv2.posterior.tau.values[:,:-1]==idata_MHv2.posterior.tau.values[:,1:]).mean(axis=1)"
      ]
    },
    {
      "cell_type": "code",
      "execution_count": null,
      "id": "f3ab5895",
      "metadata": {
        "id": "f3ab5895"
      },
      "outputs": [],
      "source": [
        "fig,ax = plt.subplots(1,2,figsize=(10,4))\n",
        "ax[0].plot(idata_MHv2.posterior.theta.values.ravel()[:-1],\n",
        "           idata_MHv2.posterior.theta.values.ravel()[1:], '.', alpha=0.25)\n",
        "ax[1].plot(idata_MHv2.posterior.tau.values.ravel()[:-1],\n",
        "           idata_MHv2.posterior.tau.values.ravel()[1:], '.', alpha=0.25);"
      ]
    },
    {
      "cell_type": "markdown",
      "id": "afaf412f",
      "metadata": {
        "id": "afaf412f"
      },
      "source": [
        "## Week 5 Homework\n",
        "\n",
        "---\n",
        "\n",
        "### Q1: Questions about PyMC...\n",
        "\n",
        "Complete this formatted markdown listing of the contents of \"PyMC Example Gallery\". *Include links and your favorite image (right click and \"copy image address\") from each page.*\n",
        "\n",
        "\n",
        "#### Introductory\n",
        "\n",
        "- [General Overview](https://www.pymc.io/projects/docs/en/stable/learn/core_notebooks/pymc_overview.html)\n",
        "- [Simple Linear Regression](https://www.pymc.io/projects/docs/en/stable/learn/core_notebooks/GLM_linear.html)\n",
        "- [General API quickstart](https://www.pymc.io/projects/examples/en/latest/introductory/api_quickstart.html)\n",
        "\n",
        "| | | |\n",
        "|-|-|-|\n",
        "|![](https://www.pymc.io/projects/docs/en/stable/_images/ac30f30b2297ec4f2bb798b4f28d2cbba2d0502dbaae4a5f78fdd5cccacda517.svg)|<img src=\"https://www.pymc.io/projects/docs/en/stable/_images/a8276d1222c43c061dbfff6fa3ff3af15b86038fd7d1e204c429ae3714ea1a20.png\"  width=\"500\"/>|![](https://www.pymc.io/projects/examples/en/latest/_images/434538d8660bf2399ebf9df11cbd2b7cec62d8abafc588da625315074b628118.png)|\n",
        "\n",
        "#### Library Fundamentals\n",
        "\n",
        "- [Distribution Dimensionality](https://www.pymc.io/projects/docs/en/stable/learn/core_notebooks/dimensionality.html#dimensionality)\n",
        "- [PyMC and PyTensor](https://www.pymc.io/projects/docs/en/stable/learn/core_notebooks/pymc_pytensor.html#pymc-pytensor)\n",
        "- [Using Data Containers](https://www.pymc.io/projects/examples/en/latest/fundamentals/data_container.html)\n",
        "\n",
        "| | | |\n",
        "|-|-|-|\n",
        "|![](https://www.pymc.io/projects/docs/en/stable/_images/73352774c2286019a31b211a29ee527bace6cc46ab421aa3e4c3f572a6658da5.svg)|<img src=\"https://raw.githubusercontent.com/pymc-devs/pytensor/main/doc/tutorial/apply.png\"  width=\"500\"/>|<img src=\"https://www.pymc.io/projects/examples/en/latest/_images/37c9ddde2fd310a1ccf634fe45efd8272aef5f91524e2ef0303cb153ff606024.png\"  width=\"500\"/>|\n",
        "\n",
        "####How to\n",
        "\n",
        "- [Prior and Posterior Predictive Checks](https://www.pymc.io/projects/docs/en/stable/learn/core_notebooks/posterior_predictive.html#posterior-predictive)\n",
        "- [Model comparison](https://www.pymc.io/projects/docs/en/stable/learn/core_notebooks/model_comparison.html#model-comparison)\n",
        "- [Updating Priors](https://www.pymc.io/projects/examples/en/latest/howto/updating_priors.html)\n",
        "- [Automatic marginalization of discrete variables](https://www.pymc.io/projects/examples/en/latest/howto/marginalizing-models.html)\n",
        "- [How to debug a model](https://www.pymc.io/projects/examples/en/latest/howto/howto_debugging.html)\n",
        "- [How to wrap a JAX function for use in PyMC](https://www.pymc.io/projects/examples/en/latest/howto/wrapping_jax_function.html)\n",
        "- [Splines](https://www.pymc.io/projects/examples/en/latest/howto/spline.html)\n",
        "- [Bayesian copula estimation: Describing correlated joint distributions](https://www.pymc.io/projects/examples/en/latest/howto/copula-estimation.html)\n",
        "- [Using ModelBuilder class for deploying PyMC models](https://www.pymc.io/projects/examples/en/latest/howto/model_builder.html)\n",
        "- [Using a “black box” likelihood function](https://www.pymc.io/projects/examples/en/latest/howto/blackbox_external_likelihood_numpy.html)\n",
        "- [LKJ Cholesky Covariance Priors for Multivariate Normal Models](https://www.pymc.io/projects/examples/en/latest/howto/LKJ.html)\n",
        "- [Bayesian Missing Data Imputation](https://www.pymc.io/projects/examples/en/latest/howto/Missing_Data_Imputation.html)\n",
        "- [Profiling](https://www.pymc.io/projects/examples/en/latest/howto/profiling.html) - no image\n",
        "\n",
        "| | | |\n",
        "|-|-|-|\n",
        "|<img src=\"https://www.pymc.io/projects/docs/en/stable/_images/3afe24e7b160465c730b0f96b00c980cb5d4e90b1529f656e2fdca57913d72ac.png\"  width=\"500\"/>|<img src=\"https://www.pymc.io/projects/docs/en/stable/_images/69bd250de55dfb612954797a0838bf15f33d8001365fbede3ae19d1656a495da.png\"  width=\"500\"/>|<img src=\"https://www.pymc.io/projects/examples/en/latest/_images/5c91b2b45e4e07be744bd90c92793f4b064b85ea9e147b0eaf3b463e1735f34a.png\"  width=\"500\"/>|\n",
        "|<img src=\"https://www.pymc.io/projects/examples/en/latest/_images/0118ac6518154b713b67c4f14df5bb1a20bcd1c05aa2060a5231864ba213db60.png\"  width=\"500\"/>|<img src=\"https://www.pymc.io/projects/examples/en/latest/_images/cd8d49dd3519e25c0ec2d3ef30a0816fe9c3f7708d9eda15d157590da6ca27b5.svg\"  width=\"500\"/>|<img src=\"https://www.pymc.io/projects/examples/en/latest/_images/810705521c6d764cc52621beb88fb0f1160e1a92c804d6708c7c4f84aa34a535.png\"  width=\"500\"/>|\n",
        "|<img src=\"https://www.pymc.io/projects/examples/en/latest/_images/a6616c59356c36ba84453a4be2ead2399e319d4b12bdae9289150a926dcae049.png\"  width=\"500\"/>|<img src=\"https://www.pymc.io/projects/examples/en/latest/_images/69bd3c829d6271ec9c8490a50921b4784c50819e99c274cc0d2d46df4ffa7f47.png\"  width=\"500\"/>|<img src=\"https://www.pymc.io/projects/examples/en/latest/_images/bbc4da85106ec9c236813f170272c9b249e0a8af0911c428cddbf54bb0752c74.png\"  width=\"500\"/>|\n",
        "|<img src=\"https://www.pymc.io/projects/examples/en/latest/_images/89d287d9670af4425b66d6628cb61fdc0bb529c85ad580476b447435ab476fcc.png\"  width=\"500\"/>|<img src=\"https://www.pymc.io/projects/examples/en/latest/_images/f859e4ca959a1c0fc8f886a6752ef8317cff5016e94dc17a7c1cc6ac2cd9535f.png\"  width=\"500\"/>|<img src=\"https://www.pymc.io/projects/examples/en/latest/_images/ae88dc8b4d03fb9c8f319ed9d20c3eaece6a5086508253abfb364412aad42e66.png\"  width=\"500\"/>|\n",
        "\n",
        "#### Generalized Linear Model\n",
        "- [GLM: Robust Linear Regression](https://www.pymc.io/projects/examples/en/latest/generalized_linear_models/GLM-robust.html)\n",
        "- [GLM-ordinal-features](https://www.pymc.io/projects/examples/en/latest/generalized_linear_models/GLM-ordinal-features.html)\n",
        "- [Out-Of-Sample Predictions](https://www.pymc.io/projects/examples/en/latest/generalized_linear_models/GLM-out-of-sample-predictions.html)\n",
        "- [Bayesian regression with truncated or censored data](https://www.pymc.io/projects/examples/en/latest/generalized_linear_models/GLM-truncated-censored-regression.html)\n",
        "- [Binomial regression](https://www.pymc.io/projects/examples/en/latest/generalized_linear_models/GLM-binomial-regression.html)\n",
        "- [GLM: Negative Binomial Regression](https://www.pymc.io/projects/examples/en/latest/generalized_linear_models/GLM-negative-binomial-regression.html)\n",
        "- [Hierarchical Binomial Model: Rat Tumor Example](https://www.pymc.io/projects/examples/en/latest/generalized_linear_models/GLM-hierarchical-binomial-model.html)\n",
        "- [A Primer on Bayesian Methods for Multilevel Modeling](https://www.pymc.io/projects/examples/en/latest/generalized_linear_models/multilevel_modeling.html)\n",
        "- [GLM-missing-values-in-covariates](https://www.pymc.io/projects/examples/en/latest/generalized_linear_models/GLM-missing-values-in-covariates.html)\n",
        "- [Regression Models with Ordered Categorical Outcomes](https://www.pymc.io/projects/examples/en/latest/generalized_linear_models/GLM-ordinal-regression.html)\n",
        "- [GLM: Poisson Regression](https://www.pymc.io/projects/examples/en/latest/generalized_linear_models/GLM-poisson-regression.html)\n",
        "- [Discrete Choice and Random Utility Models](https://www.pymc.io/projects/examples/en/latest/generalized_linear_models/GLM-discrete-choice_models.html)\n",
        "- [GLM: Model Selection](https://www.pymc.io/projects/examples/en/latest/generalized_linear_models/GLM-model-selection.html)\n",
        "- [GLM: Robust Regression using Custom Likelihood for Outlier Classification](https://www.pymc.io/projects/examples/en/latest/generalized_linear_models/GLM-robust-with-outlier-detection.html)\n",
        "- [Rolling Regression](https://www.pymc.io/projects/examples/en/latest/generalized_linear_models/GLM-rolling-regression.html)\n",
        "\n",
        "\n",
        "| | | |\n",
        "|-|-|-|\n",
        "|<img src=\"https://www.pymc.io/projects/examples/en/latest/_images/2a78b97583ee869cae0dd0c05e5342683605d657e6baf4e1169a55644bddf662.png\"  width=\"500\"/>|<img src=\"https://www.pymc.io/projects/examples/en/latest/_images/f7bfa573538510d59d19b862666b1b7b9cb5c52a74c27a6c54bfc4caa7ff823c.svg\"  width=\"500\"/>|<img src=\"https://www.pymc.io/projects/examples/en/latest/_images/506205391b7910fb0cf250bf3397ddc842c5bb2f2650e089ebec9d542f49d3fa.png\"  width=\"500\"/>|\n",
        "|<img src=\"https://www.pymc.io/projects/examples/en/latest/_images/effa77fb83c23871508125eeaebe5b9cf7fa5b81c62e3c350987270737dd7a20.png\"  width=\"500\"/>|<img src=\"https://www.pymc.io/projects/examples/en/latest/_images/2af54aa3c6d0dcc893750608896f94dc41d623fee75756f05e3e97b629e9718a.png\"  width=\"500\"/>|<img src=\"https://www.pymc.io/projects/examples/en/latest/_images/26e650782d73f95310b3fda053366e4f2a9df307cc35e9ed09f3a2fecc1ed06d.png\"  width=\"500\"/>|\n",
        "|<img src=\"https://www.pymc.io/projects/examples/en/latest/_images/2a85713cd2be6198dba8c216c4c71ac955f2328781b000e13a5472ecbba673ad.png\"  width=\"500\"/>|<img src=\"https://www.pymc.io/projects/examples/en/latest/_images/01d77f664224e7a7f8255b46a042352bfac4fb7683e0a40a855677068dcc6a14.png\"  width=\"500\"/>|<img src=\"https://www.pymc.io/projects/examples/en/latest/_images/3cddbd37e2fdd52fb6792b2d527ef6d2a06dd2e522123bd7b310688ebda91e6d.png\"  width=\"500\"/>|\n",
        "|<img src=\"https://www.pymc.io/projects/examples/en/latest/_images/22f5f249ee957d97ff4eb52895c3b83ef6126acd7633308f10b2ebb92ecc87a7.png\"  width=\"500\"/>|<img src=\"https://www.pymc.io/projects/examples/en/latest/_images/8d70edc186902abbd997ed8155b0807406213a2113a01aff27e3e638b83321eb.png\"  width=\"500\"/>|<img src=\"https://www.pymc.io/projects/examples/en/latest/_images/0fc25f236ec92cf052fd8f7039a658a153cfe53812b957dae972d553e92f4606.png\"  width=\"500\"/>|\n",
        "|<img src=\"https://www.pymc.io/projects/examples/en/latest/_images/2abb4b985087a1a8d5f8dfa5b485b34f0134adcceb8cccb3fc9dc0f31ada9047.png\"  width=\"500\"/>|<img src=\"https://www.pymc.io/projects/examples/en/latest/_images/2f5bb1629ac3be1ecc2b35fc544b64a20ee1b7aa236ca42498440805f6ce8fc3.png\"  width=\"500\"/>|<img src=\"https://www.pymc.io/projects/examples/en/latest/_images/6527831dd88c242e288d444e294f895c0a50eb792a59369a79e32f9290e5c959.png\"  width=\"500\"/>|\n",
        "\n",
        "\n",
        "#### Case Studies\n",
        "- [Confirmatory Factor Analysis and Structural Equation Models in Psychometrics](https://www.pymc.io/projects/examples/en/latest/case_studies/CFA_SEM.html)\n",
        "- [Hierarchical Partial Pooling](https://www.pymc.io/projects/examples/en/latest/case_studies/hierarchical_partial_pooling.html)\n",
        "- [NBA Foul Analysis with Item Response Theory](https://www.pymc.io/projects/examples/en/latest/case_studies/item_response_nba.html)\n",
        "- [Bayesian Estimation Supersedes the T-Test](https://www.pymc.io/projects/examples/en/latest/case_studies/BEST.html)\n",
        "- [A Hierarchical Model for Rugby Prediction](https://www.pymc.io/projects/examples/en/latest/case_studies/rugby_analytics.html)\n",
        "- [Estimating Parameters of a Distribution from Awkwardly Binned Data](https://www.pymc.io/projects/examples/en/latest/case_studies/binning.html)\n",
        "- [Factor Analysis](https://www.pymc.io/projects/examples/en/latest/case_studies/factor_analysis.html)\n",
        "- [Probabilistic Matrix Factorization for Making Personalized Recommendations](https://www.pymc.io/projects/examples/en/latest/case_studies/probabilistic_matrix_factorization.html)\n",
        "- [Reliability Statistics and Predictive Calibration](https://www.pymc.io/projects/examples/en/latest/case_studies/reliability_and_calibrated_prediction.html)\n",
        "- [Generalized Extreme Value Distribution](https://www.pymc.io/projects/examples/en/latest/case_studies/GEV.html)\n",
        "- [Model Building and Expansion for Golf Putting](https://www.pymc.io/projects/examples/en/latest/case_studies/putting_workflow.html)\n",
        "- [Fitting a Reinforcement Learning Model to Behavioral Data with PyMC](https://www.pymc.io/projects/examples/en/latest/case_studies/reinforcement_learning.html)\n",
        "\n",
        "| | | |\n",
        "|-|-|-|\n",
        "|<img src=\"https://www.pymc.io/projects/examples/en/latest/_images/db0ad3e27df5db905e86df53ed194c146901e3b038ea44237681fc0471c9d1a2.png\"  width=\"500\"/>|<img src=\"https://www.pymc.io/projects/examples/en/latest/_images/c723373ea236a4a93a129dff0c5864c0ceaa03f661ca396f00f58b9a81ee30da.png\"  width=\"500\"/>|<img src=\"https://www.pymc.io/projects/examples/en/latest/_images/43a0b14b9f84c62980a32a7eb0b8909d5d78a61305aead0f5bc82109ddb9418b.png\"  width=\"500\"/>|\n",
        "|<img src=\"https://www.pymc.io/projects/examples/en/latest/_images/073035d65700ed87439b543ebee2d98e340346030646fed769fb9ec5d135f21f.png\"  width=\"500\"/>|<img src=\"https://www.pymc.io/projects/examples/en/latest/_images/939e2b380b884b82d7217fdcc914c31020860ff77da6abf85c6f45f347959e44.png\"  width=\"500\"/>|<img src=\"https://www.pymc.io/projects/examples/en/latest/_images/8cc6a49c4b40652fc733d91c269006437a3a36aad58d7e3ee7c7d18220005087.png\"  width=\"500\"/>|\n",
        "|<img src=\"https://www.pymc.io/projects/examples/en/latest/_images/d3902baec3a16548e994f270bd575d058f63b0919d3aad6bc4b5ab68e650e06d.png\"  width=\"500\"/>|<img src=\"https://www.pymc.io/projects/examples/en/latest/_images/b64ff1f05a93e6953efa11de6aede55acb876803396c57c5f73447a2a6f5c6fa.png\"  width=\"500\"/>|<img src=\"https://www.pymc.io/projects/examples/en/latest/_images/ab32293eceda7603411cd5544e1cd9814373ac410566edb06ce4d11d2c3c8089.png\"  width=\"500\"/>|\n",
        "|<img src=\"https://www.pymc.io/projects/examples/en/latest/_images/2d9db3bdead58e8e7a75ad52ae71fd9fa637a42f4e666573ec730b496a828f3b.png\"  width=\"500\"/>|<img src=\"https://www.pymc.io/projects/examples/en/latest/_images/36351c8a57b85f621f32099ea2bcfabc96645d9da05fcf6e520bfe31ce3302d3.png\"  width=\"500\"/>|<img src=\"https://www.pymc.io/projects/examples/en/latest/_images/61c7ebefb12024aec7632c7d7a157263908c69ca0681daf53d17906f652a01cd.png\"  width=\"500\"/>|\n",
        "\n",
        "### Causal Inference\n",
        "- [Simpson’s Paradox](https://www.pymc.io/projects/examples/en/latest/causal_inference/GLM-simpsons-paradox.html)\n",
        "- [Interrupted Time Series Analysis](https://www.pymc.io/projects/examples/en/latest/causal_inference/interrupted_time_series.html)\n",
        "- [Regression Discontinuity Design Analysis](https://www.pymc.io/projects/examples/en/latest/causal_inference/regression_discontinuity.html)\n",
        "- [Interventional Distributions and Graph Mutation with the Do-Operator](https://www.pymc.io/projects/examples/en/latest/causal_inference/interventional_distribution.html)\n",
        "- [Bayesian Non-Parametric Causal Inference](https://www.pymc.io/projects/examples/en/latest/causal_inference/bayesian_nonparametric_causal.html)\n",
        "- [Bayesian Mediation Analysis](https://www.pymc.io/projects/examples/en/latest/causal_inference/mediation_analysis.html)\n",
        "- [Counterfactual Inference: Calculating Excess Deaths Due to COVID-19](https://www.pymc.io/projects/examples/en/latest/causal_inference/excess_deaths.html)\n",
        "- [Introduction to Bayesian A/B Testing](https://www.pymc.io/projects/examples/en/latest/causal_inference/bayesian_ab_testing_introduction.html)\n",
        "- [Difference in Differences](https://www.pymc.io/projects/examples/en/latest/causal_inference/difference_in_differences.html)\n",
        "- [Bayesian Moderation Analysis](https://www.pymc.io/projects/examples/en/latest/causal_inference/moderation_analysis.html)\n",
        "\n",
        "\n",
        "\n",
        "\n",
        "\n",
        "| | | |\n",
        "|-|-|-|\n",
        "|<img src=\"https://upload.wikimedia.org/wikipedia/commons/f/fb/Simpsons_paradox_-_animation.gif\"  width=\"500\"/>|<img src=\"https://www.pymc.io/projects/examples/en/latest/_images/49d3e0b1e33ef95f1905ed0e648bc790fadb21183cf29156f75e742ff162e1b2.png\"  width=\"500\"/>|<img src=\"https://www.pymc.io/projects/examples/en/latest/_images/0615b106487e7d8fc900fda79bc7046210a227de9997b6289ce324fa8a95c078.png\"  width=\"500\"/>|\n",
        "|<img src=\"https://www.pymc.io/projects/examples/en/latest/_images/b8c71a7245ccc4ef95c7ab4fb383cdef8f4d0204ea79d6a38f8ec9e144ef010d.png\"  width=\"500\"/>|<img src=\"https://www.pymc.io/projects/examples/en/latest/_images/a6d2d5c8a1fba6baaef33100afd962d9b7fc17ecebc4f6e220c76c1d11f5f697.png\"  width=\"500\"/>|<img src=\"https://www.pymc.io/projects/examples/en/latest/_images/b8423726013c43fe09cb7ebdddd0bf7b3f51c0749cdc183173b4dc6711013b72.png\"  width=\"500\"/>|\n",
        "|<img src=\"https://www.pymc.io/projects/examples/en/latest/_images/2e0c2c7923bb7e22a418e60653170b206d80f638c5937e50a180c45094f4f042.png\"  width=\"500\"/>|<img src=\"https://www.pymc.io/projects/examples/en/latest/_images/05b1553c08b71229f5a0dbd8faf3041e01ccd3467e0c74d2745edeb447014f11.png\"  width=\"500\"/>|<img src=\"https://www.pymc.io/projects/examples/en/latest/_images/aac2ccaccb8afd9cb8fd093d8f38a67ec1e1fc90635e044639451b4cbf59366a.png\"  width=\"500\"/>|\n",
        "|<img src=\"https://www.pymc.io/projects/examples/en/latest/_images/a26b7b61e4d185410d5e6f0af1da9270397eab627b9040395d4a7fffa8e8b2cd.png\"  width=\"500\"/>|<img src=\"\"  width=\"500\"/>|<img src=\"\"  width=\"500\"/>|\n",
        "\n",
        "\n",
        "\n",
        "\n",
        "### Gaussian Processes\n",
        "- [Mean and Covariance Functions](https://www.pymc.io/projects/examples/en/latest/gaussian_processes/GP-MeansAndCovs.html)\n",
        "- [Student-t Process](https://www.pymc.io/projects/examples/en/latest/gaussian_processes/GP-TProcess.html)\n",
        "- [Heteroskedastic Gaussian Processes](https://www.pymc.io/projects/examples/en/latest/gaussian_processes/GP-Heteroskedastic.html)\n",
        "- [Gaussian Processes: Latent Variable Implementation](https://www.pymc.io/projects/examples/en/latest/gaussian_processes/GP-Latent.html)\n",
        "- [Sparse Approximations](https://www.pymc.io/projects/examples/en/latest/gaussian_processes/GP-SparseApprox.html)\n",
        "- [Gaussian Processes using NumPy Kernel](https://www.pymc.io/projects/examples/en/latest/gaussian_processes/gaussian_process.html)\n",
        "- [Kronecker Structured Covariances](https://www.pymc.io/projects/examples/en/latest/gaussian_processes/GP-Kron.html)\n",
        "- [Example: Mauna Loa CO₂ Continued](https://www.pymc.io/projects/examples/en/latest/gaussian_processes/GP-MaunaLoa2.html)\n",
        "- [Gaussian Process for CO₂ at Mauna Loa](https://www.pymc.io/projects/examples/en/latest/gaussian_processes/GP-MaunaLoa.html)\n",
        "- [Gaussian Processes: HSGP Reference & First Steps](https://www.pymc.io/projects/examples/en/latest/gaussian_processes/HSGP-Basic.html)\n",
        "- [Baby Births Modeling with HSGPs](https://www.pymc.io/projects/examples/en/latest/gaussian_processes/GP-Births.html)\n",
        "- [Marginal Likelihood Implementation](https://www.pymc.io/projects/examples/en/latest/gaussian_processes/GP-Marginal.html)\n",
        "- [Multi-output Gaussian Processes: Coregionalization Models Using Hadamard Product](https://www.pymc.io/projects/examples/en/latest/gaussian_processes/MOGP-Coregion-Hadamard.html)\n",
        "- [GP-Circular](https://www.pymc.io/projects/examples/en/latest/gaussian_processes/GP-Circular.html)\n",
        "- [Modeling Spatial Point Patterns with a Marked Log-Gaussian Cox Process](https://www.pymc.io/projects/examples/en/latest/gaussian_processes/log-gaussian-cox-process.html)\n",
        "- [Gaussian Processes: HSGP Advanced Usage](https://www.pymc.io/projects/examples/en/latest/gaussian_processes/HSGP-Advanced.html)\n",
        "- [Gaussian Process (GP) Smoothing](https://www.pymc.io/projects/examples/en/latest/gaussian_processes/GP-smoothing.html)\n",
        "\n",
        "\n",
        "| | | |\n",
        "|-|-|-|\n",
        "|<img src=\"https://www.pymc.io/projects/examples/en/latest/_images/12b97e2a173a6b128fea67ff752b04bab1c8917cc633ba568ae432d047d6e3d4.png\"  width=\"500\"/>|<img src=\"https://www.pymc.io/projects/examples/en/latest/_images/492abe34d40b745e80b74d46dcc3035d82f0a55b49035bc9dec21e97ceb8b381.png\"  width=\"500\"/>|<img src=\"https://www.pymc.io/projects/examples/en/latest/_images/e232e7d9a039540fb24633a7463866eeab947212b87af65dc9535f55a659c463.png\"  width=\"500\"/>|\n",
        "|<img src=\"https://www.pymc.io/projects/examples/en/latest/_images/39603df4f63e88e15dfca57f1eaf6f6aa6385cc08c9e8de8fce0ae99d7ae2162.png\"  width=\"500\"/>|<img src=\"https://www.pymc.io/projects/examples/en/latest/_images/546ae74569c62ee02c96a2605a5b003d0d8df657e30e05f5f0e88c758621c845.png\"  width=\"500\"/>|<img src=\"https://www.pymc.io/projects/examples/en/latest/_images/361ee9934448fe06716f684cf3d66e5c95fbba7de10095787217f50420e75092.png\"  width=\"500\"/>|\n",
        "|<img src=\"https://www.pymc.io/projects/examples/en/latest/_images/605deeb9a5cd05d41f170b5c49ddad6f2a9ac06f9da7d90ebe8e9358f179153d.png\"  width=\"500\"/>|<img src=\"https://www.pymc.io/projects/examples/en/latest/_images/c97bb5d41650ef854ebcdc4088fda9f8bd76287973bc2d9951a0f5b6320aafe7.png\"  width=\"500\"/>|<img src=\"http://sites.gsu.edu/geog1112/files/2014/07/MaunaLoaObservatory_small-2g29jvt.png\"  width=\"500\"/>|\n",
        "|<img src=\"https://www.pymc.io/projects/examples/en/latest/_images/1b60fee59767da2f31bbbc437e1c4a5ef4a18065d3c4b6e0bd3fe5d2948523e6.png\"  width=\"500\"/>|<img src=\"https://www.pymc.io/projects/examples/en/latest/_images/dac71b44330f1844173b31a6e5886c3f05f44a7f8351d4bef7766a6dc0e5fd4a.png\"  width=\"500\"/>|<img src=\"https://www.pymc.io/projects/examples/en/latest/_images/2447e8ebbc842686109ae1c94a562490c64513eb6923e57e310fd86563d08d66.png\"  width=\"500\"/>|\n",
        "|<img src=\"https://www.pymc.io/projects/examples/en/latest/_images/1b7b1bbf06ee7907d222062d2177dadc449384c296d5ad809b0b3dbbce377eb6.png\"  width=\"500\"/>|<img src=\"https://www.pymc.io/projects/examples/en/latest/_images/6d6b411075905d18c7dd9d8a10c79a3a2e2b08203af2daaa4b1f31b355210963.png\"  width=\"500\"/>|<img src=\"https://www.pymc.io/projects/examples/en/latest/_images/b6c86a8daa0f88300d9775ace3f5d5908f43487ad9d6cd5418669d807bb91e09.png\"  width=\"500\"/>|\n",
        "|<img src=\"https://www.pymc.io/projects/examples/en/latest/_images/649443f0ecb1ba943c4a8897aff5478de8d8cfa0717c9761e3a02de935961727.png\"  width=\"500\"/>|<img src=\"https://www.pymc.io/projects/examples/en/latest/_images/75875d37983a300bbfeba4893d5a8c9c2b5a8888b46be5a01929078898ed42c1.png\"  width=\"500\"/>|<img src=\"\"  width=\"500\"/>|\n",
        "\n",
        "### Time Series\n",
        "\n",
        "- [Longitudinal Models of Change](https://www.pymc.io/projects/examples/en/latest/time_series/longitudinal_models.html)\n",
        "- [Forecasting with Structural AR Timeseries](https://www.pymc.io/projects/examples/en/latest/time_series/Forecasting_with_structural_timeseries.html)\n",
        "- [Analysis of An AR(1) Model in PyMC](https://www.pymc.io/projects/examples/en/latest/time_series/AR.html)\n",
        "- [Stochastic Volatility Model](https://www.pymc.io/projects/examples/en/latest/time_series/stochastic_volatility.html)\n",
        "- [Time Series Models Derived From a Generative Graph](https://www.pymc.io/projects/examples/en/latest/time_series/Time_Series_Generative_Graph.html)\n",
        "- [Bayesian Vector Autoregressive Models](https://www.pymc.io/projects/examples/en/latest/time_series/bayesian_var_model.html)\n",
        "- [Air Passengers - Prophet-like Model](https://www.pymc.io/projects/examples/en/latest/time_series/Air_passengers-Prophet_with_Bayesian_workflow.html)\n",
        "- [Multivariate Gaussian Random Walk](https://www.pymc.io/projects/examples/en/latest/time_series/MvGaussianRandomWalk_demo.html)\n",
        "- [Inferring Parameters of SDEs Using a Euler-Maruyama Scheme](https://www.pymc.io/projects/examples/en/latest/time_series/Euler-Maruyama_and_SDEs.html)\n",
        "\n",
        "\n",
        "| | | |\n",
        "|-|-|-|\n",
        "|<img src=\"https://www.pymc.io/projects/examples/en/latest/_images/43af8ba9f15d36a19263d73958a2e5c6cf3b89c032e2ae87430ea3e27c81578b.png\"  width=\"500\"/>|<img src=\"https://www.pymc.io/projects/examples/en/latest/_images/722bf61555339ad1f1329e95ebd305407a4d42c1516adc7d792ae0757a5c1d1e.png\"  width=\"500\"/>|<img src=\"https://www.pymc.io/projects/examples/en/latest/_images/f156ee9ab7d2c0c2d5f4f9681e8f29e423d83b0b859e6edb9359b18e92b85543.png\"  width=\"500\"/>|\n",
        "|<img src=\"https://www.pymc.io/projects/examples/en/latest/_images/280702568163c8e3464c549cc8fe3ca3bed025f235392622a164f0a89397bf47.png\"  width=\"500\"/>|<img src=\"https://www.pymc.io/projects/examples/en/latest/_images/222e64ccd535c4307e8c8fddb4011950fb480bca6c46de2dee6ca2b23c3c8225.png\"  width=\"500\"/>|<img src=\"https://www.pymc.io/projects/examples/en/latest/_images/4cc2d4d22fd292017c1b8597b2f9e23929a0a13ed2936b03e14f9038c40ccd84.png\"  width=\"500\"/>|\n",
        "|<img src=\"https://www.pymc.io/projects/examples/en/latest/_images/9fa4b9c96f9f5f55740819d4b25db74ca0a8da4a40aab42c50e364b17ea2d31a.png\"  width=\"500\"/>|<img src=\"https://www.pymc.io/projects/examples/en/latest/_images/532b379473bd0d2dc7efef8a4a56d03f00ebf2b19d6db0ad25d6c3160ebe0e8e.png\"  width=\"500\"/>|<img src=\"https://www.pymc.io/projects/examples/en/latest/_images/2b776f5df4e8a6fc9178a643b8931d320aaddec8810833d406577ab52256f51a.png\"  width=\"500\"/>|\n",
        "\n",
        "\n",
        "#### Spatial Analysis\n",
        "\n",
        "- [The Besag-York-Mollie Model for Spatial Data](https://www.pymc.io/projects/examples/en/latest/spatial/nyc_bym.html)\n",
        "- [The Prevalence of Malaria in The Gambia](https://www.pymc.io/projects/examples/en/latest/spatial/malaria_prevalence.html)\n",
        "- [Conditional Autoregressive (CAR) Models for Spatial Data](https://www.pymc.io/projects/examples/en/latest/spatial/conditional_autoregressive_priors.html)\n",
        "\n",
        "\n",
        "| | | |\n",
        "|-|-|-|\n",
        "|<img src=\"https://www.pymc.io/projects/examples/en/latest/_images/f9978a554480ea0aa2fb3ab3d68855b1bc7fd0b0956807394252b4c7d84a3b93.png\"  width=\"500\"/>|<img src=\"https://www.pymc.io/projects/examples/en/latest/_images/9a3d6c1d8ed47be69f1b3078ee37ca120cd095b11677decc178011487d3dfb3f.svg\"  width=\"500\"/>|<img src=\"https://www.pymc.io/projects/examples/en/latest/_images/b0c1efdbaa4abe2e3e02f1fbe1f807c3569663c0a631da625df25b897816bbe8.png\"  width=\"500\"/>|\n",
        "\n",
        "\n",
        "\n",
        "#### Diagnostics and Model Criticism\n",
        "\n",
        "- [Bayes Factors and Marginal Likelihood](https://www.pymc.io/projects/examples/en/latest/diagnostics_and_criticism/Bayes_factor.html)\n",
        "- [Diagnosing Biased Inference with Divergences](https://www.pymc.io/projects/examples/en/latest/diagnostics_and_criticism/Diagnosing_biased_Inference_with_Divergences.html)\n",
        "- [Sampler Statistics](https://www.pymc.io/projects/examples/en/latest/diagnostics_and_criticism/sampler-stats.html)\n",
        "- [Model Averaging](https://www.pymc.io/projects/examples/en/latest/diagnostics_and_criticism/model_averaging.html)\n",
        "\n",
        "\n",
        "| | | |\n",
        "|-|-|-|\n",
        "|<img src=\"https://www.pymc.io/projects/examples/en/latest/_images/9ee9964c2412dbdb8b9c1fd52eed3de489c26d3171c3a95e08dbf033fd4e0e6e.png\"  width=\"500\"/>|<img src=\"https://www.pymc.io/projects/examples/en/latest/_images/241bfe5ad56ca5ac0574fc082f1ea9b775270623877683ecec11df38387f6f2b.png\"  width=\"500\"/>|<img src=\"https://www.pymc.io/projects/examples/en/latest/_images/a504e1bc44836e2d0f52990a78663d6905f9244b81eacd95d656211c3fc8910e.png\"  width=\"500\"/>|\n",
        "|<img src=\"https://www.pymc.io/projects/examples/en/latest/_images/04dfc13dad24652049eae900d067708b33c326a1cc0a809d54446806b8c88fe5.png\"  width=\"500\"/>|<img src=\"\"  width=\"500\"/>|<img src=\"\"  width=\"500\"/>|\n",
        "\n",
        "\n",
        "#### Bayesian Additive Regression Trees\n",
        "\n",
        "- [Categorical Regression](https://www.pymc.io/projects/examples/en/latest/bart/bart_categorical_hawks.html)\n",
        "- [Bayesian Additive Regression Trees: Introduction](https://www.pymc.io/projects/examples/en/latest/bart/bart_introduction.html)\n",
        "- [Modeling Heteroscedasticity with BART](https://www.pymc.io/projects/examples/en/latest/bart/bart_heteroscedasticity.html)\n",
        "- [Quantile Regression with BART](https://www.pymc.io/projects/examples/en/latest/bart/bart_quantile_regression.html)\n",
        "\n",
        "| | | |\n",
        "|-|-|-|\n",
        "|<img src=\"https://www.pymc.io/projects/examples/en/latest/_images/73af265de4026405441eda11be375e3d7151e21f4c462b35d83ec3228b43a106.png\"  width=\"500\"/>|<img src=\"https://www.pymc.io/projects/examples/en/latest/_images/799c9ad4685dcfcd9174007a8904d3fb4151861c2e66f93005878b67d6bdd470.png\"  width=\"500\"/>|<img src=\"https://www.pymc.io/projects/examples/en/latest/_images/2a70660877b52a1474f190519f6d49f2a352f6ee88cc7578c0df40439f737732.png\"  width=\"500\"/>|\n",
        "|<img src=\"https://www.pymc.io/projects/examples/en/latest/_images/db057b16cc6507be0bf4e84b884be162f7f37c6622887347e3b616418e3b79fe.png\"  width=\"500\"/>|<img src=\"\"  width=\"500\"/>|<img src=\"\"  width=\"500\"/>|\n",
        "\n",
        "\n",
        "#### Mixture Models\n",
        "\n",
        "- [Gaussian Mixture Model](https://www.pymc.io/projects/examples/en/latest/mixture_models/gaussian_mixture_model.html)\n",
        "- [Dependent Density Regression](https://www.pymc.io/projects/examples/en/latest/mixture_models/dependent_density_regression.html)\n",
        "- [Dirichlet Process Mixtures for Density Estimation](https://www.pymc.io/projects/examples/en/latest/mixture_models/dp_mix.html)\n",
        "- [Marginalized Gaussian Mixture Model](https://www.pymc.io/projects/examples/en/latest/mixture_models/marginalized_gaussian_mixture_model.html)\n",
        "- [Dirichlet Mixtures of Multinomials](https://www.pymc.io/projects/examples/en/latest/mixture_models/dirichlet_mixture_of_multinomials.html)\n",
        "\n",
        "\n",
        "| | | |\n",
        "|-|-|-|\n",
        "|<img src=\"https://www.pymc.io/projects/examples/en/latest/_images/1c7c5303d6f30869cfe061a28ff09060db0019f1c0c5f73bad0d4a60deba0e39.png\"  width=\"500\"/>|<img src=\"https://www.pymc.io/projects/examples/en/latest/_images/d394806a5d839fa0fa678227efd4e541486045dcdfb4a555b3749705848427b1.png\"  width=\"500\"/>|<img src=\"https://www.pymc.io/projects/examples/en/latest/_images/eb4d5d50b995d0b987d681aa0e77af7dc7061e01fcf76bc05a146b3b32f5fb52.png\"  width=\"500\"/>|\n",
        "|<img src=\"https://www.pymc.io/projects/examples/en/latest/_images/e16a3216629376bb2ccdd8c49a749dae382c49eba1cc5c6b7776a1a2a7f014ef.png\"  width=\"500\"/>|<img src=\"https://www.pymc.io/projects/examples/en/latest/mixture_models/dirichlet_mixture_of_multinomials.html\"  width=\"500\"/>|<img src=\"\"  width=\"500\"/>|\n",
        "\n",
        "\n",
        "\n",
        "#### Survival Analysis\n",
        "\n",
        "- [Reparameterizing the Weibull Accelerated Failure Time Model](https://www.pymc.io/projects/examples/en/latest/survival_analysis/weibull_aft.html)\n",
        "- [Bayesian Survival Analysis](https://www.pymc.io/projects/examples/en/latest/survival_analysis/survival_analysis.html)\n",
        "- [Censored Data Models](https://www.pymc.io/projects/examples/en/latest/survival_analysis/censored_data.html)\n",
        "- [Frailty and Survival Regression Models](https://www.pymc.io/projects/examples/en/latest/survival_analysis/frailty_models.html)\n",
        "- [Bayesian Parametric Survival Analysis](https://www.pymc.io/projects/examples/en/latest/survival_analysis/bayes_param_survival.html)\n",
        "\n",
        "| | | |\n",
        "|-|-|-|\n",
        "|<img src=\"https://www.pymc.io/projects/examples/en/latest/_images/7e062de9dac35861a87f76119ab3ed3a249f19ef978160a757f05f50db6e6996.png\"  width=\"500\"/>|<img src=\"https://www.pymc.io/projects/examples/en/latest/_images/faf356a8f5bf2a21353a56a90e7fea6f2795f67b40ca3f56c59ea8ebf91971dd.png\"  width=\"500\"/>|<img src=\"https://www.pymc.io/projects/examples/en/latest/_images/de33b4d01d1fb24e68a9ce12e7a01a0b2fd8fec53df1207010a830da36809963.png\"  width=\"500\"/>|\n",
        "|<img src=\"https://www.pymc.io/projects/examples/en/latest/_images/0e9cef9f4112f258634868b4ffadc37895b793ad6ffa9790d456077c5cb1f2e0.svg\"  width=\"500\"/>|<img src=\"https://www.pymc.io/projects/examples/en/latest/_images/e802f820d9d647e7f9fa23b286e51eef84af3331c89bc927938c4a6bc3e6121e.png\"  width=\"500\"/>|<img src=\"\"  width=\"500\"/>|\n",
        "\n",
        "\n",
        "### ODE Models\n",
        "\n",
        "- [ODE Lotka-Volterra With Bayesian Inference in Multiple Ways](https://www.pymc.io/projects/examples/en/latest/ode_models/ODE_Lotka_Volterra_multiple_ways.html)\n",
        "- [Lotka-Volterra with Manual Gradients](https://www.pymc.io/projects/examples/en/latest/ode_models/ODE_with_manual_gradients.html)\n",
        "- [pymc3.ode: Shapes and Benchmarking](https://www.pymc.io/projects/examples/en/latest/ode_models/ODE_API_shapes_and_benchmarking.html)\n",
        "- [GSoC 2019: Introduction of pymc3.ode API](https://www.pymc.io/projects/examples/en/latest/ode_models/ODE_API_introduction.html)\n",
        "\n",
        "\n",
        "| | | |\n",
        "|-|-|-|\n",
        "|<img src=\"https://www.pymc.io/projects/examples/en/latest/_images/07e77a972517df91ac84d870e9b2c42ca3c9f6f92420d84a4ef85ff0eb59d895.png\"  width=\"500\"/>|<img src=\"https://www.pymc.io/projects/examples/en/latest/_images/0d4fbd5fcd37f2eb1fef58e953b0291b72fa212c95864b3af07554f3b487f134.png\"  width=\"500\"/>|<img src=\"https://www.pymc.io/projects/examples/en/latest/_images/f1d6ce0b93a1398ab102c7f009b8bf3fc988f78b54f650ccdf4b841fa78b2ea9.png\"  width=\"500\"/>|\n",
        "|<img src=\"https://www.pymc.io/projects/examples/en/latest/_images/7774ceeaf7ca87d295b2921716ca9c43c4d094d1ba580111bcea6701cb4eb28e.png\"  width=\"500\"/>|<img src=\"\"  width=\"500\"/>|<img src=\"\"  width=\"500\"/>|\n",
        "\n",
        "\n",
        "\n",
        "### MCMC\n",
        "\n",
        "- [Lasso Regression with Block Updating](https://www.pymc.io/projects/examples/en/latest/samplers/lasso_block_update.html)\n",
        "- [Approximate Bayesian Computation](https://www.pymc.io/projects/examples/en/latest/samplers/SMC-ABC_Lotka-Volterra_example.html)\n",
        "- [DEMetropolis and DEMetropolis(Z) Algorithm Comparisons](https://www.pymc.io/projects/examples/en/latest/samplers/DEMetropolisZ_EfficiencyComparison.html)\n",
        "- [Faster Sampling with JAX and Numba](https://www.pymc.io/projects/examples/en/latest/samplers/fast_sampling_with_jax_and_numba.html)\n",
        "- [Sequential Monte Carlo](https://www.pymc.io/projects/examples/en/latest/samplers/SMC2_gaussians.html)\n",
        "- [Using a Custom Step Method for Sampling from Locally Conjugate Posterior Distributions](https://www.pymc.io/projects/examples/en/latest/samplers/sampling_conjugate_step.html)\n",
        "- [DEMetropolis(Z) Sampler Tuning](https://www.pymc.io/projects/examples/en/latest/samplers/DEMetropolisZ_tune_drop_fraction.html)\n",
        "- [Compound Steps in Sampling](https://www.pymc.io/projects/examples/en/latest/samplers/sampling_compound_step.html)\n",
        "\n",
        "| | | |\n",
        "|-|-|-|\n",
        "|<img src=\"https://www.pymc.io/projects/examples/en/latest/_images/2bc755fd8bf0a29be0c099502d53d2097de89708e8fd4c792426392f28773e1f.png\"  width=\"500\"/>|<img src=\"https://www.pymc.io/projects/examples/en/latest/_images/b3dd5f2e6168f27fbc43c4de6ac4a767b9e2843abcde4fc0ac6387024cfdd936.png\"  width=\"500\"/>|<img src=\"https://www.pymc.io/projects/examples/en/latest/_images/fd0c52f3aa065ef4a1a53be92edc2bda2b37c207975492919379200bef6faec4.png\"  width=\"500\"/>|\n",
        "|<img src=\"https://www.pymc.io/projects/examples/en/latest/_images/a6200c084641fcdbddb8dcd934b79899a09357b22b12d743e338ae95127cf922.png\"  width=\"500\"/>|<img src=\"https://www.pymc.io/projects/examples/en/latest/_images/smc.png\"  width=\"500\"/>|<img src=\"https://www.pymc.io/projects/examples/en/latest/_images/aede7ed8b91855a9ffe4fdb579ab4658a52be9906f1364e0281e7af3831406de.png\"  width=\"500\"/>|\n",
        "|<img src=\"https://www.pymc.io/projects/examples/en/latest/_images/e5737836358ed727a08b9dddf2f2f71de96d08f0130c11bd30f8ba9b0a6228ad.png\"  width=\"500\"/>|<img src=\"https://www.pymc.io/projects/examples/en/latest/_images/c33a125122359a1dcd8709a398ea21e456e015befd1ccbd3c1fa23b8879eb33e.png\"  width=\"500\"/>|<img src=\"\"  width=\"500\"/>|\n",
        "\n",
        "### Variational Inference\n",
        "- [Variational Inference: Bayesian Neural Networks] (https://www.pymc.io/projects/examples/en/latest/variational_inference/bayesian_neural_network_advi.html)\n",
        "- [Pathfinder Variational Inference](https://www.pymc.io/projects/examples/en/latest/variational_inference/pathfinder.html)\n",
        "- [Empirical Approximation overview](https://www.pymc.io/projects/examples/en/latest/variational_inference/empirical-approx-overview.html)\n",
        "- [Introduction to Variational Inference with PyMC](https://www.pymc.io/projects/examples/en/latest/variational_inference/variational_api_quickstart.html)\n",
        "- [GLM: Mini-batch ADVI on hierarchical regression model](https://www.pymc.io/projects/examples/en/latest/variational_inference/GLM-hierarchical-advi-minibatch.html)\n",
        "\n",
        "| | | |\n",
        "|-|-|-|\n",
        "|<img src=\"https://www.pymc.io/projects/examples/en/latest/_images/cad6382102331ff90c2c382f63af66a7275b32896cbbb27e8ff1d4210c4118a6.png\"  width=\"500\"/>|<img src=\"https://www.pymc.io/projects/examples/en/latest/_images/077012558f2fe2e6b21854e6182b00e824a0d3a00e6df1688d13d20081a76027.png\"  width=\"500\"/>|<img src=\"https://www.pymc.io/projects/examples/en/latest/_images/1f492e57459477c94ea1c4592c256e74214136f337eb07f676f0f5899ce5fb3e.png\"  width=\"500\"/>|\n",
        "|<img src=\"https://www.pymc.io/projects/examples/en/latest/_images/116337ff4618fe238abd91a472e494f8a69b1adb4a55115511c9ccea9614c2b6.png\"  width=\"500\"/>|<img src=\"https://www.pymc.io/projects/examples/en/latest/_images/af9b90617fc072dcb41643f8d1228130d436ae7589248a7adcc8582793cf8ce3.png\"  width=\"500\"/>|<img src=\"\"  width=\"500\"/>|\n",
        "\n",
        "\n",
        "\n",
        "\n",
        "### Q2: Continue \"Q2\" of the previous weeks 3 and 4\n",
        "\n",
        "1. *Use PyMC to provide Bayesian inference for the paramaters associated with a sample of normal data where your prior for theta is a normal distribution and your prior for $\\tau$ is a gamma distribution. Provide diagnostic assessments of the performance of your algorithm.*\n",
        "\n",
        "2. *Use PyMC to provide Bayesian inference for the paramaters associated with a sample of normal data where your prior for theta is a non normal distribution and your prior for $\\tau$ is a non-gamma distribution. Provide diagnostic assessments of the performance of your algorithm.*\n",
        "\n",
        "3. *Use PyMC to provide Bayesian inference for the paramaters associated with a sample of normal data where your prior for theta is a yet another different again non normal distribution and your prior for $\\tau$ is a yet another different again non-gamma distribution. Provide diagnostic assessments of the performance of your algorithm.*\n",
        "\n",
        "### Q3: Slice Sampling\n",
        "\n",
        "*First explain how the Markov algorithm of slice sampling as given below works. Then explain the steps by which slice sampling could be used in place of a Metropolis-Hasting step in a Metropolis within Gibbs algorithm where the full conditionals are only known up to a normalizing constant. In your explanation clarify what the curve that we're sampling beneath is, and what the initial value and steps are to create the draw for Gibbs sampling.*"
      ]
    },
    {
      "cell_type": "code",
      "execution_count": 5,
      "id": "fd17e501",
      "metadata": {
        "id": "fd17e501"
      },
      "outputs": [],
      "source": [
        "def slice_f_at_y(f, x, y, x_grid=np.linspace(0,1,51)):\n",
        "\n",
        "    # find interval of grid points where f(x_grid) > y\n",
        "    # then extend the enterval so endpoints f(a)<y and f(b)<y\n",
        "    x_grid_delta = x_grid[1]-x_grid[0]\n",
        "    a,b = x_grid[f(x_grid)>y][[0,-1]]+[-x_grid_delta,x_grid_delta]\n",
        "    # a,b = x_grid[0,-1]  # make the interval all of x_grid\n",
        "\n",
        "    x_ = a + stats.uniform().rvs()*(b-a)\n",
        "    if f(x_)>y:\n",
        "        return x_,1  # in 1 try if f(x_)>y and \"x_ is under f\"\n",
        "    elif x_ < x:  # or if \"x_ was above f on the left side of the interval\"\n",
        "        x_l,x_r = x_,b\n",
        "    else:\n",
        "        x_l,x_r = a,x_  # or if \"x_ was above f on the right side of the interval\"\n",
        "    return slice_f_at_y_(f, x, y, x_l, x_r, tot = 2)  # try again with a reduced interval\n",
        "\n",
        "def slice_f_at_y_(f, x, y, x_l=0, x_r=1, tot=1):\n",
        "\n",
        "    x_ = x_l + stats.uniform().rvs()*(x_r-x_l)\n",
        "\n",
        "    if f(x_)>y:\n",
        "        return x_,tot\n",
        "    elif x_ < x:\n",
        "        x_l = x_\n",
        "    else:\n",
        "        x_r = x_\n",
        "    return slice_f_at_y_(f, x, y, x_l, x_r, tot = tot+1)\n"
      ]
    },
    {
      "cell_type": "code",
      "execution_count": 6,
      "id": "3d820203",
      "metadata": {
        "colab": {
          "base_uri": "https://localhost:8080/",
          "height": 430
        },
        "id": "3d820203",
        "outputId": "d8634450-bbc5-4acd-987b-fda342ad185c"
      },
      "outputs": [
        {
          "output_type": "display_data",
          "data": {
            "text/plain": [
              "<Figure size 640x480 with 1 Axes>"
            ],
            "image/png": "[encoded data removed]"
          },
          "metadata": {}
        }
      ],
      "source": [
        "x_grid = np.linspace(0,1,1000)\n",
        "f = lambda x: stats.beta(1.5,3).pdf(x)\n",
        "plt.plot(x_grid, f(x_grid))\n",
        "\n",
        "m = 1000\n",
        "x = np.zeros([m+1,3])\n",
        "x[:2,0] = 0.25\n",
        "\n",
        "plot_trace = 10\n",
        "for t in range(1,m):\n",
        "\n",
        "    x[t,1] = stats.uniform().rvs()*f(x[t,0])\n",
        "    if t < plot_trace:\n",
        "        plt.plot([x[t,0]]*2, [x[t-1,1],x[t,1]], 'k')\n",
        "\n",
        "    x[t+1,0],x[t+1,2] = slice_f_at_y(f, x[t,0], x[t,1])\n",
        "    if t < plot_trace:\n",
        "        if t==1:\n",
        "            plt.plot([x[t,0], x[t+1,0]], [x[t,1]]*2, 'k--', label=str(plot_trace)+ \" iterations\")\n",
        "        plt.plot([x[t,0], x[t+1,0]], [x[t,1]]*2, 'k--')\n",
        "\n",
        "plt.hist(x[:,0], density=True, label=str(m)+\" iterations\\n x values only\")\n",
        "plt.legend();"
      ]
    },
    {
      "cell_type": "code",
      "execution_count": null,
      "id": "1f057239",
      "metadata": {
        "id": "1f057239"
      },
      "outputs": [],
      "source": []
    }
  ],
  "metadata": {
    "kernelspec": {
      "display_name": "Python 3 (ipykernel)",
      "language": "python",
      "name": "python3"
    },
    "language_info": {
      "codemirror_mode": {
        "name": "ipython",
        "version": 3
      },
      "file_extension": ".py",
      "mimetype": "text/x-python",
      "name": "python",
      "nbconvert_exporter": "python",
      "pygments_lexer": "ipython3",
      "version": "3.11.4"
    },
    "colab": {
      "provenance": []
    }
  },
  "nbformat": 4,
  "nbformat_minor": 5
}